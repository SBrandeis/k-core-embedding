{
 "cells": [
  {
   "cell_type": "code",
   "execution_count": 241,
   "metadata": {},
   "outputs": [],
   "source": [
    "import networkx as nx\n",
    "import os.path as osp\n",
    "import os\n",
    "from node2vec import random_walk, simple_biaised_random_walk, biaised_random_walk\n",
    "import matplotlib.pyplot as plt\n",
    "import numpy as np\n",
    "from tqdm import tqdm\n",
    "from time import time\n",
    "import multiprocessing as mp\n",
    "from functools import partial\n",
    "import seaborn as sns\n",
    "import re\n",
    "import pandas as pd\n",
    "import warnings\n",
    "warnings.filterwarnings('ignore')"
   ]
  },
  {
   "cell_type": "code",
   "execution_count": 242,
   "metadata": {},
   "outputs": [
    {
     "name": "stdout",
     "output_type": "stream",
     "text": [
      "Number of processors:  8\n"
     ]
    }
   ],
   "source": [
    "print(\"Number of processors: \", mp.cpu_count())"
   ]
  },
  {
   "cell_type": "code",
   "execution_count": 3,
   "metadata": {},
   "outputs": [],
   "source": [
    "#for network_name_ in os.listdir(path_to_data_gml):\n",
    "#    G = nx.read_gml(osp.join(path_to_data_gml, network_name_))\n",
    "#    print(\"{}: Nodes ({}), Edges : ({})\".format(network_name_, len(G.nodes), len(G.edges)))"
   ]
  },
  {
   "cell_type": "code",
   "execution_count": 248,
   "metadata": {},
   "outputs": [],
   "source": [
    "path_to_data_gml = '../data/gml'\n",
    "network_name = 'cora.gml'\n",
    "G = nx.read_gml(osp.join(path_to_data_gml, network_name))"
   ]
  },
  {
   "cell_type": "code",
   "execution_count": 249,
   "metadata": {},
   "outputs": [],
   "source": [
    "# Clean graph \n",
    "G.remove_edges_from(nx.selfloop_edges(G))\n",
    "isolated_nodes = nx.isolates(G)\n",
    "G.remove_nodes_from(list(isolated_nodes))\n",
    "core_nb = nx.core_number(G)"
   ]
  },
  {
   "cell_type": "code",
   "execution_count": 260,
   "metadata": {},
   "outputs": [],
   "source": [
    "def rw_to_txt(rw, fname='tmp.txt', fdir=\"rw_cora\"):\n",
    "    if not osp.exists(fdir):\n",
    "        os.mkdir(fdir)\n",
    "    with open(osp.join(fdir, fname), 'w') as f:\n",
    "        for rw_line in rw:\n",
    "            f.writelines(','.join(rw_line) + '\\n')\n",
    "    print('Saved to {}'.format(fname))"
   ]
  },
  {
   "cell_type": "code",
   "execution_count": 251,
   "metadata": {},
   "outputs": [],
   "source": [
    "def from_txt(fdir):\n",
    "    with open(fdir, \"r\") as f:\n",
    "        lines = f.readlines()\n",
    "    rw = [] \n",
    "    for l in lines:\n",
    "        tmp = lines[0].split(\",\")\n",
    "        rw.append(tmp[:-1] + [tmp[-1].rstrip()])\n",
    "    return rw"
   ]
  },
  {
   "cell_type": "markdown",
   "metadata": {},
   "source": [
    "# Graphs stats"
   ]
  },
  {
   "cell_type": "code",
   "execution_count": 7,
   "metadata": {},
   "outputs": [],
   "source": [
    "degree_list = [deg for node, deg in G.degree]"
   ]
  },
  {
   "cell_type": "code",
   "execution_count": 8,
   "metadata": {},
   "outputs": [],
   "source": [
    "degree, counts = np.unique(degree_list, return_counts=True)"
   ]
  },
  {
   "cell_type": "code",
   "execution_count": 9,
   "metadata": {},
   "outputs": [],
   "source": [
    "cum_count = [sum(counts[i:]) for i in range(len(counts))]"
   ]
  },
  {
   "cell_type": "code",
   "execution_count": 10,
   "metadata": {},
   "outputs": [
    {
     "data": {
      "image/png": "[encoded data removed]",
      "text/plain": [
       "<Figure size 432x288 with 1 Axes>"
      ]
     },
     "metadata": {
      "needs_background": "light"
     },
     "output_type": "display_data"
    }
   ],
   "source": [
    "fig, ax = plt.subplots(1, 1)\n",
    "ax.plot(degree, cum_count)\n",
    "ax.set_xscale('log')\n",
    "ax.set_yscale('log')\n",
    "plt.show()"
   ]
  },
  {
   "cell_type": "code",
   "execution_count": 39,
   "metadata": {},
   "outputs": [
    {
     "data": {
      "text/plain": [
       "2.3823521566933232"
      ]
     },
     "execution_count": 39,
     "metadata": {},
     "output_type": "execute_result"
    }
   ],
   "source": [
    "nx.average_shortest_path_length(G)"
   ]
  },
  {
   "cell_type": "markdown",
   "metadata": {},
   "source": [
    "# Generate biaised random walks"
   ]
  },
  {
   "cell_type": "markdown",
   "metadata": {},
   "source": [
    "## Utils functions"
   ]
  },
  {
   "cell_type": "code",
   "execution_count": 252,
   "metadata": {},
   "outputs": [],
   "source": [
    "def _random_walk(node, rep, args): #Simple utils function to compute the repetition of the rw\n",
    "    return [random_walk(node=node, **args) for _ in range(rep)]"
   ]
  },
  {
   "cell_type": "code",
   "execution_count": 253,
   "metadata": {},
   "outputs": [],
   "source": [
    "def generate_rw(args):\n",
    "    core_nb = nx.core_number(args['graph'])\n",
    "    start_time = time()\n",
    "    p = mp.Pool(mp.cpu_count())\n",
    "    rep = args.pop(\"rep\", 12)\n",
    "    multiprocess_rw = partial(_random_walk, rep=rep, args=args) \n",
    "    walks = p.map(multiprocess_rw, [n for n in G.nodes])\n",
    "    walks = np.array(walks).reshape(np.array(walks).shape[0], -1).tolist() # TODO: pas beau\n",
    "    print(\"Generation time: {} - {} random walks\".format(time()-start_time, len(walks)))\n",
    "    rw_to_txt(walks, fname=\"node2vec_{}rep_{len_walk:}len_{p:.2f}p_{q:.2f}q.txt\".format(rep, **args))\n",
    "    return walks"
   ]
  },
  {
   "cell_type": "code",
   "execution_count": 254,
   "metadata": {},
   "outputs": [],
   "source": [
    "def _simple_biaised_random_walk(node, rep, args): #Simple utils function to compute the repetition of the rw\n",
    "    return [simple_biaised_random_walk(node=node, **args) for _ in range(rep)]"
   ]
  },
  {
   "cell_type": "code",
   "execution_count": 255,
   "metadata": {},
   "outputs": [],
   "source": [
    "def generate_simple_biaised_rw(args):\n",
    "    core_nb = nx.core_number(args['graph'])\n",
    "    start_time = time()\n",
    "    p = mp.Pool(mp.cpu_count())\n",
    "    rep = args.pop(\"rep\", 10)\n",
    "    multiprocess_simple_biaised_rw = partial(_simple_biaised_random_walk, rep=rep, args=args) \n",
    "    walks = p.map(multiprocess_simple_biaised_rw, [n for n in G.nodes])\n",
    "    walks = np.array(walks).reshape(np.array(walks).shape[0], -1).tolist() # TODO: pas beau\n",
    "    print(\"Generation time: {} - {} random walks\".format(time()-start_time, len(walks)))\n",
    "    rw_to_txt(walks, fname=\"node2vec_{}rep_{len_walk:}len_{alpha:.2f}alpha_{beta:.2f}beta.txt\".format(rep, **args))\n",
    "    return walks"
   ]
  },
  {
   "cell_type": "code",
   "execution_count": 256,
   "metadata": {},
   "outputs": [],
   "source": [
    "def _biaised_random_walk(node, rep, args): #Simple utils function to compute the repetition of the rw\n",
    "    return [biaised_random_walk(node=node, **args) for _ in range(rep)]"
   ]
  },
  {
   "cell_type": "code",
   "execution_count": 257,
   "metadata": {},
   "outputs": [],
   "source": [
    "def generate_biaised_rw(args):\n",
    "    core_nb = nx.core_number(args['graph'])\n",
    "    start_time = time()\n",
    "    p = mp.Pool(mp.cpu_count())\n",
    "    rep = args.pop(\"rep\", 10)\n",
    "    multiprocess_biaised_rw = partial(_biaised_random_walk, rep=rep, args=args) \n",
    "    walks = p.map(multiprocess_biaised_rw, [n for n in G.nodes])\n",
    "    walks = np.array(walks).reshape(np.array(walks).shape[0], -1).tolist() # TODO: pas beau\n",
    "    print(\"Generation time: {} - {} random walks\".format(time()-start_time, len(walks)))\n",
    "    rw_to_txt(walks, fname=\"node2vec_{}rep_{len_walk:}len_{a1:.2f}a1_{a2:.2f}a2_{p1:.2f}p1_{p2:.2f}p2_{q1:.2f}q1_{q2:.2f}q2.txt\".format(rep, **args))\n",
    "    return walks"
   ]
  },
  {
   "cell_type": "markdown",
   "metadata": {},
   "source": [
    "## Generation"
   ]
  },
  {
   "cell_type": "markdown",
   "metadata": {},
   "source": [
    "Transition probabilities :\n",
    "\n",
    "1. Simple biaised random walk : $\\pi_{vx} = \\alpha(v, x) w_{vx}$\n",
    "    \n",
    "    \n",
    "$$ \\alpha_{\\alpha\\beta}(v, x) =\n",
    "\\left\\{\n",
    "    \\begin{array}{ll}\n",
    "        \\frac{1}{\\alpha} \\ if \\ k_{x} < k_{v} \\\\\n",
    "        1 \\ if \\ k_{x} = k_{v} \\\\\n",
    "        \\frac{1}{\\beta} \\ otherwise\\\\\n",
    "    \\end{array}\n",
    "\\right.\n",
    "$$\n",
    "  \n",
    "Thus, if \n",
    "\n",
    "- $if \\alpha << 1 << \\beta $, random walk biaised towards lower k-core numbers\n",
    "- $if \\beta << 1 << \\alpha $, random walk biaised towards higher k-core numbers\n",
    "\n",
    "\n",
    "2. Biaised random walk $\\pi_{vx} = \\alpha(t, x) w_{vx}$\n",
    "\n",
    "\n",
    "$$ \\alpha_{\\alpha\\beta}(t, x) =\n",
    "\\left\\{\n",
    "    \\begin{array}{ll}\n",
    "        \\frac{1}{p_1} \\ if \\ d_{tx} = 0 \\ and \\ k_{x} \\lt k_{v} \\\\\n",
    "        \\frac{1}{p_2} \\ if \\ d_{tx} = 0 \\ and \\ k_{x} \\ge k_{v} \\\\\n",
    "        \\frac{1}{a_1} \\ if \\ d_{tx} = 1 \\ and \\ k_{x} \\lt k_{v} \\\\\n",
    "        \\frac{1}{a_2} \\ if \\ d_{tx} = 1 \\ and \\ k_{x} \\ge k_{v} \\\\\n",
    "        \\frac{1}{q_1} \\ if \\ d_{tx} = 2 \\ and \\ k_{x} \\lt k_{v} \\\\\n",
    "        \\frac{1}{q_2} \\ if \\ d_{tx} = 2 \\ and \\ k_{x} \\ge k_{v} \\\\\n",
    "        \\end{array}\n",
    "\\right.\n",
    "$$"
   ]
  },
  {
   "cell_type": "code",
   "execution_count": 258,
   "metadata": {},
   "outputs": [],
   "source": [
    "len_walk = 40\n",
    "rep = 10"
   ]
  },
  {
   "cell_type": "code",
   "execution_count": 2,
   "metadata": {},
   "outputs": [],
   "source": [
    "import numpy as np"
   ]
  },
  {
   "cell_type": "code",
   "execution_count": 6,
   "metadata": {},
   "outputs": [],
   "source": [
    "w_ = [[node for walk in l for node in walk] for l in ]"
   ]
  },
  {
   "cell_type": "code",
   "execution_count": 8,
   "metadata": {},
   "outputs": [
    {
     "data": {
      "text/plain": [
       "400"
      ]
     },
     "execution_count": 8,
     "metadata": {},
     "output_type": "execute_result"
    }
   ],
   "source": [
    "len(w_[0])"
   ]
  },
  {
   "cell_type": "code",
   "execution_count": 3,
   "metadata": {},
   "outputs": [],
   "source": [
    "w = np.random.uniform(0, 10, size=(100, 10, 40)).tolist()"
   ]
  },
  {
   "cell_type": "markdown",
   "metadata": {},
   "source": [
    "### Node2vec random walk"
   ]
  },
  {
   "cell_type": "code",
   "execution_count": 4,
   "metadata": {},
   "outputs": [
    {
     "ename": "NameError",
     "evalue": "name 'G' is not defined",
     "output_type": "error",
     "traceback": [
      "\u001b[0;31m---------------------------------------------------------------------------\u001b[0m",
      "\u001b[0;31mNameError\u001b[0m                                 Traceback (most recent call last)",
      "\u001b[0;32m<ipython-input-4-889e5764e888>\u001b[0m in \u001b[0;36m<module>\u001b[0;34m\u001b[0m\n\u001b[0;32m----> 1\u001b[0;31m \u001b[0margs_rw\u001b[0m \u001b[0;34m=\u001b[0m \u001b[0;34m{\u001b[0m\u001b[0;34m\"graph\"\u001b[0m\u001b[0;34m:\u001b[0m\u001b[0mG\u001b[0m\u001b[0;34m,\u001b[0m \u001b[0;34m\"len_walk\"\u001b[0m\u001b[0;34m:\u001b[0m\u001b[0mlen_walk\u001b[0m\u001b[0;34m,\u001b[0m \u001b[0;34m\"rep\"\u001b[0m\u001b[0;34m:\u001b[0m \u001b[0mrep\u001b[0m\u001b[0;34m,\u001b[0m \u001b[0;34m\"p\"\u001b[0m\u001b[0;34m:\u001b[0m\u001b[0;36m1\u001b[0m\u001b[0;34m,\u001b[0m \u001b[0;34m\"q\"\u001b[0m\u001b[0;34m:\u001b[0m\u001b[0;36m1\u001b[0m\u001b[0;34m}\u001b[0m\u001b[0;34m\u001b[0m\u001b[0;34m\u001b[0m\u001b[0m\n\u001b[0m",
      "\u001b[0;31mNameError\u001b[0m: name 'G' is not defined"
     ]
    }
   ],
   "source": [
    "args_rw = {\"graph\":G, \"len_walk\":len_walk, \"rep\": rep, \"p\":1, \"q\":1}"
   ]
  },
  {
   "cell_type": "code",
   "execution_count": 22,
   "metadata": {},
   "outputs": [
    {
     "name": "stdout",
     "output_type": "stream",
     "text": [
      "Generation time: 319.96074080467224 - 10312 random walks\n",
      "Saved to node2vec_10rep_40len_1.00p_1.00q.txt\n"
     ]
    },
    {
     "name": "stderr",
     "output_type": "stream",
     "text": [
      "Process ForkPoolWorker-6:\n",
      "Process ForkPoolWorker-2:\n",
      "Process ForkPoolWorker-4:\n",
      "Process ForkPoolWorker-8:\n",
      "Process ForkPoolWorker-7:\n",
      "Process ForkPoolWorker-3:\n",
      "Process ForkPoolWorker-5:\n",
      "Process ForkPoolWorker-1:\n",
      "Traceback (most recent call last):\n",
      "Traceback (most recent call last):\n",
      "Traceback (most recent call last):\n",
      "Traceback (most recent call last):\n",
      "Traceback (most recent call last):\n",
      "Traceback (most recent call last):\n",
      "Traceback (most recent call last):\n",
      "  File \"/opt/miniconda3/envs/cvn_026/lib/python3.6/multiprocessing/process.py\", line 258, in _bootstrap\n",
      "    self.run()\n",
      "  File \"/opt/miniconda3/envs/cvn_026/lib/python3.6/multiprocessing/process.py\", line 258, in _bootstrap\n",
      "    self.run()\n",
      "  File \"/opt/miniconda3/envs/cvn_026/lib/python3.6/multiprocessing/process.py\", line 258, in _bootstrap\n",
      "    self.run()\n",
      "  File \"/opt/miniconda3/envs/cvn_026/lib/python3.6/multiprocessing/process.py\", line 258, in _bootstrap\n",
      "    self.run()\n",
      "  File \"/opt/miniconda3/envs/cvn_026/lib/python3.6/multiprocessing/process.py\", line 258, in _bootstrap\n",
      "    self.run()\n",
      "Traceback (most recent call last):\n",
      "  File \"/opt/miniconda3/envs/cvn_026/lib/python3.6/multiprocessing/process.py\", line 258, in _bootstrap\n",
      "    self.run()\n",
      "  File \"/opt/miniconda3/envs/cvn_026/lib/python3.6/multiprocessing/process.py\", line 258, in _bootstrap\n",
      "    self.run()\n",
      "  File \"/opt/miniconda3/envs/cvn_026/lib/python3.6/multiprocessing/process.py\", line 93, in run\n",
      "    self._target(*self._args, **self._kwargs)\n",
      "  File \"/opt/miniconda3/envs/cvn_026/lib/python3.6/multiprocessing/process.py\", line 93, in run\n",
      "    self._target(*self._args, **self._kwargs)\n",
      "  File \"/opt/miniconda3/envs/cvn_026/lib/python3.6/multiprocessing/process.py\", line 93, in run\n",
      "    self._target(*self._args, **self._kwargs)\n",
      "  File \"/opt/miniconda3/envs/cvn_026/lib/python3.6/multiprocessing/process.py\", line 93, in run\n",
      "    self._target(*self._args, **self._kwargs)\n",
      "  File \"/opt/miniconda3/envs/cvn_026/lib/python3.6/multiprocessing/process.py\", line 93, in run\n",
      "    self._target(*self._args, **self._kwargs)\n",
      "  File \"/opt/miniconda3/envs/cvn_026/lib/python3.6/multiprocessing/process.py\", line 258, in _bootstrap\n",
      "    self.run()\n",
      "  File \"/opt/miniconda3/envs/cvn_026/lib/python3.6/multiprocessing/process.py\", line 93, in run\n",
      "    self._target(*self._args, **self._kwargs)\n",
      "  File \"/opt/miniconda3/envs/cvn_026/lib/python3.6/multiprocessing/process.py\", line 93, in run\n",
      "    self._target(*self._args, **self._kwargs)\n",
      "  File \"/opt/miniconda3/envs/cvn_026/lib/python3.6/multiprocessing/pool.py\", line 108, in worker\n",
      "    task = get()\n",
      "  File \"/opt/miniconda3/envs/cvn_026/lib/python3.6/multiprocessing/pool.py\", line 108, in worker\n",
      "    task = get()\n",
      "  File \"/opt/miniconda3/envs/cvn_026/lib/python3.6/multiprocessing/pool.py\", line 108, in worker\n",
      "    task = get()\n",
      "  File \"/opt/miniconda3/envs/cvn_026/lib/python3.6/multiprocessing/pool.py\", line 108, in worker\n",
      "    task = get()\n",
      "  File \"/opt/miniconda3/envs/cvn_026/lib/python3.6/multiprocessing/process.py\", line 93, in run\n",
      "    self._target(*self._args, **self._kwargs)\n",
      "  File \"/opt/miniconda3/envs/cvn_026/lib/python3.6/multiprocessing/pool.py\", line 108, in worker\n",
      "    task = get()\n",
      "  File \"/opt/miniconda3/envs/cvn_026/lib/python3.6/multiprocessing/pool.py\", line 108, in worker\n",
      "    task = get()\n",
      "  File \"/opt/miniconda3/envs/cvn_026/lib/python3.6/multiprocessing/queues.py\", line 334, in get\n",
      "    with self._rlock:\n",
      "  File \"/opt/miniconda3/envs/cvn_026/lib/python3.6/multiprocessing/queues.py\", line 334, in get\n",
      "    with self._rlock:\n",
      "  File \"/opt/miniconda3/envs/cvn_026/lib/python3.6/multiprocessing/queues.py\", line 334, in get\n",
      "    with self._rlock:\n",
      "  File \"/opt/miniconda3/envs/cvn_026/lib/python3.6/multiprocessing/pool.py\", line 108, in worker\n",
      "    task = get()\n",
      "  File \"/opt/miniconda3/envs/cvn_026/lib/python3.6/multiprocessing/queues.py\", line 334, in get\n",
      "    with self._rlock:\n",
      "  File \"/opt/miniconda3/envs/cvn_026/lib/python3.6/multiprocessing/pool.py\", line 108, in worker\n",
      "    task = get()\n",
      "  File \"/opt/miniconda3/envs/cvn_026/lib/python3.6/multiprocessing/queues.py\", line 334, in get\n",
      "    with self._rlock:\n",
      "  File \"/opt/miniconda3/envs/cvn_026/lib/python3.6/multiprocessing/queues.py\", line 334, in get\n",
      "    with self._rlock:\n",
      "  File \"/opt/miniconda3/envs/cvn_026/lib/python3.6/multiprocessing/synchronize.py\", line 95, in __enter__\n",
      "    return self._semlock.__enter__()\n",
      "  File \"/opt/miniconda3/envs/cvn_026/lib/python3.6/multiprocessing/synchronize.py\", line 95, in __enter__\n",
      "    return self._semlock.__enter__()\n",
      "  File \"/opt/miniconda3/envs/cvn_026/lib/python3.6/multiprocessing/queues.py\", line 335, in get\n",
      "    res = self._reader.recv_bytes()\n",
      "  File \"/opt/miniconda3/envs/cvn_026/lib/python3.6/multiprocessing/synchronize.py\", line 95, in __enter__\n",
      "    return self._semlock.__enter__()\n",
      "  File \"/opt/miniconda3/envs/cvn_026/lib/python3.6/multiprocessing/synchronize.py\", line 95, in __enter__\n",
      "    return self._semlock.__enter__()\n",
      "  File \"/opt/miniconda3/envs/cvn_026/lib/python3.6/multiprocessing/queues.py\", line 334, in get\n",
      "    with self._rlock:\n",
      "  File \"/opt/miniconda3/envs/cvn_026/lib/python3.6/multiprocessing/synchronize.py\", line 95, in __enter__\n",
      "    return self._semlock.__enter__()\n",
      "KeyboardInterrupt\n",
      "  File \"/opt/miniconda3/envs/cvn_026/lib/python3.6/multiprocessing/synchronize.py\", line 95, in __enter__\n",
      "    return self._semlock.__enter__()\n",
      "KeyboardInterrupt\n",
      "KeyboardInterrupt\n",
      "  File \"/opt/miniconda3/envs/cvn_026/lib/python3.6/multiprocessing/connection.py\", line 216, in recv_bytes\n",
      "    buf = self._recv_bytes(maxlength)\n",
      "KeyboardInterrupt\n",
      "  File \"/opt/miniconda3/envs/cvn_026/lib/python3.6/multiprocessing/synchronize.py\", line 95, in __enter__\n",
      "    return self._semlock.__enter__()\n",
      "KeyboardInterrupt\n",
      "KeyboardInterrupt\n",
      "  File \"/opt/miniconda3/envs/cvn_026/lib/python3.6/multiprocessing/connection.py\", line 407, in _recv_bytes\n",
      "    buf = self._recv(4)\n",
      "KeyboardInterrupt\n",
      "  File \"/opt/miniconda3/envs/cvn_026/lib/python3.6/multiprocessing/connection.py\", line 379, in _recv\n",
      "    chunk = read(handle, remaining)\n",
      "KeyboardInterrupt\n"
     ]
    }
   ],
   "source": [
    "walks = generate_rw(args_rw)"
   ]
  },
  {
   "cell_type": "markdown",
   "metadata": {},
   "source": [
    "### Simple biaised random walk"
   ]
  },
  {
   "cell_type": "code",
   "execution_count": 29,
   "metadata": {},
   "outputs": [],
   "source": [
    "args_simple_biaised = {\"graph\":G, 'len_walk':len_walk, \"rep\": rep, 'alpha':1, 'beta':1, 'core_nb':core_nb}"
   ]
  },
  {
   "cell_type": "code",
   "execution_count": null,
   "metadata": {},
   "outputs": [
    {
     "name": "stdout",
     "output_type": "stream",
     "text": [
      "Generation time: 20.87173318862915 - 2708 random walks\n",
      "Saved to node2vec_10rep_40len_0.10alpha_1.00beta.txt\n",
      "Generation time: 22.59573793411255 - 2708 random walks\n",
      "Saved to node2vec_10rep_40len_1.00alpha_0.10beta.txt\n",
      "Generation time: 25.47354817390442 - 2708 random walks\n",
      "Saved to node2vec_10rep_40len_1.00alpha_1.00beta.txt\n",
      "Generation time: 29.319054126739502 - 2708 random walks\n",
      "Saved to node2vec_10rep_40len_0.01alpha_1.00beta.txt\n",
      "Generation time: 24.23146414756775 - 2708 random walks\n",
      "Saved to node2vec_10rep_40len_1.00alpha_0.01beta.txt\n",
      "Generation time: 23.10247302055359 - 2708 random walks\n",
      "Saved to node2vec_10rep_40len_0.10alpha_0.01beta.txt\n",
      "Generation time: 27.500937938690186 - 2708 random walks\n",
      "Saved to node2vec_10rep_40len_0.01alpha_0.10beta.txt\n",
      "Generation time: 31.43652105331421 - 2708 random walks\n",
      "Saved to node2vec_10rep_40len_1.00alpha_10.00beta.txt\n"
     ]
    }
   ],
   "source": [
    "# Parameters (alpha, beta)\n",
    " \n",
    "params = [(.1, 1), (1, .1), (1, 1), (.01, 1), (1, .01), (.1, .01), (.01, .1), (1, 10), (10, 1)]\n",
    "for (alpha, beta) in params:\n",
    "    _args = args_simple_biaised\n",
    "    _args[\"alpha\"], _args[\"beta\"] = alpha, beta\n",
    "    walks = generate_simple_biaised_rw(_args)"
   ]
  },
  {
   "cell_type": "code",
   "execution_count": 14,
   "metadata": {},
   "outputs": [
    {
     "name": "stdout",
     "output_type": "stream",
     "text": [
      "Generation time: 1.4483888149261475 - 1 random walks\n",
      "Saved to node2vec_20rep_50len_1alpha_1beta.txt\n"
     ]
    }
   ],
   "source": [
    "# walks = generate_simple_biaised_rw(args_simple_biaised)"
   ]
  },
  {
   "cell_type": "markdown",
   "metadata": {},
   "source": [
    "### Biaised random walk"
   ]
  },
  {
   "cell_type": "code",
   "execution_count": 182,
   "metadata": {},
   "outputs": [],
   "source": [
    "args_biaised_rw = {\"graph\":G, 'len_walk':len_walk, 'rep':rep, 'a1':1, 'a2':1, 'p1':1,'p2':1, 'q1':1,'q2':1, 'core_nb':core_nb}"
   ]
  },
  {
   "cell_type": "code",
   "execution_count": 183,
   "metadata": {},
   "outputs": [
    {
     "name": "stdout",
     "output_type": "stream",
     "text": [
      "Generation time: 367.9871962070465 - 10312 random walks\n",
      "Saved to node2vec_10rep_40len_1.00a1_1.00a2_0.01p1_0.10p2_1.00q1_1.00q2.txt\n",
      "Generation time: 498.297061920166 - 10312 random walks\n",
      "Saved to node2vec_10rep_40len_1.00a1_1.00a2_0.10p1_0.01p2_1.00q1_1.00q2.txt\n",
      "Generation time: 430.9120056629181 - 10312 random walks\n",
      "Saved to node2vec_10rep_40len_1.00a1_1.00a2_1.00p1_1.00p2_0.10q1_0.01q2.txt\n",
      "Generation time: 256.5615060329437 - 10312 random walks\n",
      "Saved to node2vec_10rep_40len_1.00a1_1.00a2_1.00p1_1.00p2_0.01q1_0.10q2.txt\n",
      "Generation time: 15354.390569925308 - 10312 random walks\n",
      "Saved to node2vec_10rep_40len_0.10a1_0.01a2_1.00p1_1.00p2_1.00q1_1.00q2.txt\n",
      "Generation time: 14208.063638210297 - 10312 random walks\n",
      "Saved to node2vec_10rep_40len_0.01a1_0.10a2_1.00p1_1.00p2_1.00q1_1.00q2.txt\n"
     ]
    }
   ],
   "source": [
    "# Parameters : (a1 ,a2, p1, p2, q1, q2)\n",
    "params = [(1, 1, .01, .1, 1, 1), (1, 1, .1, .01, 1, 1),\n",
    "         (1, 1, 1, 1, .1, .01), (1, 1, 1, 1, .01, .1),\n",
    "         (.1, .01, 1, 1, 1, 1), (.01, .1, 1, 1, 1, 1)]\n",
    "for (a1 ,a2, p1, p2, q1, q2) in params:\n",
    "    _args = args_biaised_rw\n",
    "    _args.update({k:v for k, v in zip([\"a1\" ,\"a2\", \"p1\", \"p2\", \"q1\", \"q2\"] ,(a1 ,a2, p1, p2, q1, q2))})\n",
    "    generate_biaised_rw(_args)"
   ]
  },
  {
   "cell_type": "code",
   "execution_count": 37,
   "metadata": {},
   "outputs": [
    {
     "name": "stdout",
     "output_type": "stream",
     "text": [
      "Generation time: 9.019586086273193 - 1 random walks\n",
      "Saved to node2vec_20rep_50len_1.00a1_1.00a2_1.00p1_1.00p2_1.00q1_1.00q2.txt\n"
     ]
    }
   ],
   "source": [
    "# walks = generate_biaised_rw(args_biaised_rw)"
   ]
  },
  {
   "cell_type": "markdown",
   "metadata": {},
   "source": [
    "# Label Prediction"
   ]
  },
  {
   "cell_type": "markdown",
   "metadata": {},
   "source": [
    "### Read save random_walk"
   ]
  },
  {
   "cell_type": "code",
   "execution_count": 19,
   "metadata": {},
   "outputs": [],
   "source": [
    "walks = from_txt(\"./rw/node2vec_10rep_40len_0.10alpha_1.00beta.txt\")"
   ]
  },
  {
   "cell_type": "code",
   "execution_count": 31,
   "metadata": {},
   "outputs": [
    {
     "data": {
      "text/plain": [
       "400"
      ]
     },
     "execution_count": 31,
     "metadata": {},
     "output_type": "execute_result"
    }
   ],
   "source": [
    "len(walks[0])"
   ]
  },
  {
   "cell_type": "markdown",
   "metadata": {},
   "source": [
    "### Utils functions"
   ]
  },
  {
   "cell_type": "code",
   "execution_count": 162,
   "metadata": {},
   "outputs": [],
   "source": [
    "from gensim.models import Word2Vec\n",
    "from sklearn.model_selection import train_test_split\n",
    "from sklearn.linear_model import LogisticRegression\n",
    "from sklearn.metrics import f1_score, confusion_matrix, accuracy_score, precision_score, recall_score"
   ]
  },
  {
   "cell_type": "code",
   "execution_count": 33,
   "metadata": {},
   "outputs": [],
   "source": [
    "def transform(x):\n",
    "    return sorted(x)[0] if type(x)==list else x"
   ]
  },
  {
   "cell_type": "code",
   "execution_count": 60,
   "metadata": {},
   "outputs": [],
   "source": [
    "def transform_class(Y_test, y_pred):\n",
    "    y_true = []\n",
    "    for i, el in enumerate(Y_test):\n",
    "        if isinstance(el, int):\n",
    "            y_true.append(el)\n",
    "        elif y_pred[i] in el:\n",
    "            y_true.append(y_pred[i])\n",
    "        else:\n",
    "            y_true.append(el[0])\n",
    "    return y_true"
   ]
  },
  {
   "cell_type": "code",
   "execution_count": 163,
   "metadata": {},
   "outputs": [],
   "source": [
    "def compute_stats(walks):\n",
    "    model = Word2Vec(walks, size=100, window=3, min_count=0, sg=1, hs=1)\n",
    "    wv = model.wv\n",
    "\n",
    "    repr_mat = wv.vectors\n",
    "    index2word = wv.index2word\n",
    "    X = repr_mat\n",
    "    Y = np.array([G.nodes[word][\"community\"] for word in index2word])\n",
    "\n",
    "    X_train, X_test, Y_train, Y_test = train_test_split(X, Y, test_size=0.6)\n",
    "\n",
    "    model = LogisticRegression(penalty='l2')\n",
    "    model.fit(X_train, list(map(transform,Y_train)))\n",
    "    y_pred = model.predict(X_test)\n",
    "    y_true = transform_class(Y_test, y_pred)\n",
    "    \n",
    "    f1 = f1_score(y_true, y_pred, average=\"micro\")\n",
    "    recall = recall_score(y_true, y_pred, average=\"micro\")\n",
    "    precision = precision_score(y_true, y_pred, average=\"micro\")\n",
    "\n",
    "    print(f\"F1: {f1}, precision: {precision}, recall: {recall}\")\n",
    "    \n",
    "    return f1, precision, recall  "
   ]
  },
  {
   "cell_type": "markdown",
   "metadata": {},
   "source": [
    "### Experiment utils"
   ]
  },
  {
   "cell_type": "code",
   "execution_count": 96,
   "metadata": {},
   "outputs": [],
   "source": [
    "def get_rw_params(fname):\n",
    "    rw_pattern = \"^node2vec_([0-9]+)rep_([0-9]+)len_([0-9]+.[0-9]{2})p_([0-9]+.[0-9]{2})q.txt$\"\n",
    "    match = re.search(rw_pattern, fname)\n",
    "    params = {'len_walk':match.group(1), \"rep\": match.group(2), 'p':match.group(3), 'q':match.group(4)}\n",
    "    return params"
   ]
  },
  {
   "cell_type": "code",
   "execution_count": 112,
   "metadata": {},
   "outputs": [],
   "source": [
    "def get_simple_biaised_rw_params(fname):\n",
    "    simple_biaised_pattern = \"^node2vec_([0-9]+)rep_([0-9]+)len_([0-9]+.[0-9]{2})alpha_([0-9]+.[0-9]{2})beta.txt$\"\n",
    "    match = re.search(simple_biaised_pattern, fname)\n",
    "    params = {'len_walk':match.group(1), \"rep\": match.group(2), 'alpha':match.group(3), 'beta':match.group(4)}\n",
    "    return params"
   ]
  },
  {
   "cell_type": "code",
   "execution_count": 98,
   "metadata": {},
   "outputs": [],
   "source": [
    "def get_biaised_rw_params(fname):\n",
    "    biaised_pattern = \"^node2vec_([0-9]+)rep_([0-9]+)len_([0-9]+.[0-9]{2})a1_([0-9]+.[0-9]{2})a2_([0-9]+.[0-9]{2})p1_([0-9]+.[0-9]{2})p2_([0-9]+.[0-9]{2})q1_([0-9]+.[0-9]{2})q2.txt$\"\n",
    "    match = re.search(biaised_pattern, fname)\n",
    "    params = {'len_walk': match.group(1), 'rep':match.group(2), 'a1':match.group(3), 'a2':match.group(4), 'p1':match.group(5),'p2':match.group(6), 'q1':match.group(7),'q2':match.group(8)}\n",
    "    return params"
   ]
  },
  {
   "cell_type": "markdown",
   "metadata": {},
   "source": [
    "### Predict"
   ]
  },
  {
   "cell_type": "code",
   "execution_count": 176,
   "metadata": {},
   "outputs": [],
   "source": [
    "if not osp.exists(\"output\"):\n",
    "    os.makedirs(\"output\")"
   ]
  },
  {
   "cell_type": "code",
   "execution_count": 179,
   "metadata": {},
   "outputs": [
    {
     "name": "stdout",
     "output_type": "stream",
     "text": [
      "Processing node2vec_10rep_40len_1.00alpha_1.00beta.txt - (1/9)\n",
      "F1: 0.3773432449903038, precision: 0.3773432449903038, recall: 0.3773432449903038\n",
      "Processing node2vec_10rep_40len_0.10alpha_0.01beta.txt - (2/9)\n",
      "F1: 0.37120232708468, precision: 0.37120232708468004, recall: 0.37120232708468004\n",
      "Processing node2vec_10rep_40len_0.01alpha_1.00beta.txt - (3/9)\n",
      "F1: 0.3695862960568843, precision: 0.3695862960568843, recall: 0.3695862960568843\n",
      "Processing node2vec_10rep_40len_10.00alpha_1.00beta.txt - (4/9)\n",
      "F1: 0.37588881706528765, precision: 0.37588881706528765, recall: 0.37588881706528765\n",
      "Processing node2vec_10rep_40len_1.00alpha_0.01beta.txt - (5/9)\n",
      "F1: 0.3695862960568843, precision: 0.3695862960568843, recall: 0.3695862960568843\n",
      "Processing node2vec_10rep_40len_1.00alpha_0.10beta.txt - (6/9)\n",
      "F1: 0.36651583710407243, precision: 0.3665158371040724, recall: 0.3665158371040724\n",
      "Processing node2vec_10rep_40len_1.00alpha_10.00beta.txt - (7/9)\n",
      "F1: 0.3632837750484809, precision: 0.3632837750484809, recall: 0.3632837750484809\n",
      "Processing node2vec_10rep_40len_0.10alpha_1.00beta.txt - (8/9)\n",
      "F1: 0.3645765998707175, precision: 0.3645765998707175, recall: 0.3645765998707175\n",
      "Processing node2vec_10rep_40len_0.01alpha_0.10beta.txt - (9/9)\n",
      "F1: 0.3749191984486102, precision: 0.3749191984486102, recall: 0.3749191984486102\n"
     ]
    }
   ],
   "source": [
    "# Simple biaised RW\n",
    "res = None\n",
    "simple_biaised_pattern = \"node2vec_([0-9]+)rep_([0-9]+)len_([0-9]+.[0-9]{2})alpha_([0-9]+.[0-9]{2})beta.txt\"\n",
    "files = [fname for fname in os.listdir('rw') if re.search(simple_biaised_pattern, fname)]\n",
    "for i, fname in enumerate(files):\n",
    "    print(f'Processing {fname} - ({i+1}/{len(files)})')\n",
    "    walk = from_txt(osp.join(\"rw\", fname))\n",
    "    output = get_simple_biaised_rw_params(fname)\n",
    "    f1, precision, recall = compute_stats(walks)\n",
    "    output[\"f1_score\"], output[\"precision\"], output[\"recall\"]  = f1, precision, recall\n",
    "    if res is None:\n",
    "        res = pd.DataFrame(output, index=[0]) \n",
    "    else:\n",
    "        res = res.append(pd.DataFrame(output, index=[res.shape[0]]))\n",
    "        \n",
    "res.to_csv(osp.join('output', 'simple_biaised.csv'))"
   ]
  },
  {
   "cell_type": "code",
   "execution_count": 180,
   "metadata": {},
   "outputs": [
    {
     "data": {
      "text/plain": [
       "Text(0.5, 1.0, 'f1_score as f(alpha, beta)')"
      ]
     },
     "execution_count": 180,
     "metadata": {},
     "output_type": "execute_result"
    },
    {
     "data": {
      "image/png": "[encoded data removed]",
      "text/plain": [
       "<Figure size 432x288 with 1 Axes>"
      ]
     },
     "metadata": {
      "needs_background": "light"
     },
     "output_type": "display_data"
    }
   ],
   "source": [
    "size = res[\"precision\"]*1000\n",
    "plt.scatter(res[\"alpha\"], res[\"beta\"], s = size)\n",
    "plt.xlabel(\"alpha\")\n",
    "plt.ylabel(\"beta\")\n",
    "plt.title(\"f1_score as f(alpha, beta)\")"
   ]
  },
  {
   "cell_type": "code",
   "execution_count": 185,
   "metadata": {},
   "outputs": [
    {
     "name": "stdout",
     "output_type": "stream",
     "text": [
      "Processing node2vec_10rep_40len_1.00a1_1.00a2_0.10p1_0.01p2_1.00q1_1.00q2.txt - (1/6)\n",
      "F1: 0.3663542340012928, precision: 0.3663542340012928, recall: 0.3663542340012928\n",
      "Processing node2vec_10rep_40len_0.01a1_0.10a2_1.00p1_1.00p2_1.00q1_1.00q2.txt - (2/6)\n",
      "F1: 0.37766645119586295, precision: 0.37766645119586295, recall: 0.37766645119586295\n",
      "Processing node2vec_10rep_40len_1.00a1_1.00a2_0.01p1_0.10p2_1.00q1_1.00q2.txt - (3/6)\n",
      "F1: 0.3757272139625081, precision: 0.3757272139625081, recall: 0.3757272139625081\n",
      "Processing node2vec_10rep_40len_1.00a1_1.00a2_1.00p1_1.00p2_0.01q1_0.10q2.txt - (4/6)\n",
      "F1: 0.36651583710407243, precision: 0.3665158371040724, recall: 0.3665158371040724\n",
      "Processing node2vec_10rep_40len_1.00a1_1.00a2_1.00p1_1.00p2_0.10q1_0.01q2.txt - (5/6)\n",
      "F1: 0.3577892695539754, precision: 0.35778926955397544, recall: 0.35778926955397544\n",
      "Processing node2vec_10rep_40len_0.10a1_0.01a2_1.00p1_1.00p2_1.00q1_1.00q2.txt - (6/6)\n",
      "F1: 0.36877828054298645, precision: 0.36877828054298645, recall: 0.36877828054298645\n"
     ]
    }
   ],
   "source": [
    "#  biaised RW\n",
    "res = None\n",
    "biaised_pattern = \"^node2vec_([0-9]+)rep_([0-9]+)len_([0-9]+.[0-9]{2})a1_([0-9]+.[0-9]{2})a2_([0-9]+.[0-9]{2})p1_([0-9]+.[0-9]{2})p2_([0-9]+.[0-9]{2})q1_([0-9]+.[0-9]{2})q2.txt$\"\n",
    "files = [fname for fname in os.listdir('rw') if re.search(biaised_pattern, fname)]\n",
    "for i, fname in enumerate(files):\n",
    "    print(f'Processing {fname} - ({i+1}/{len(files)})')\n",
    "    walk = from_txt(osp.join(\"rw\", fname))\n",
    "    output = get_biaised_rw_params(fname)\n",
    "    f1, precision, recall = compute_stats(walks)\n",
    "    output[\"f1_score\"], output[\"precision\"], output[\"recall\"]  = f1, precision, recall\n",
    "    if res is None:\n",
    "        res = pd.DataFrame(output, index=[0]) \n",
    "    else:\n",
    "        res = res.append(pd.DataFrame(output, index=[res.shape[0]]))\n",
    "        \n",
    "res.to_csv(osp.join('output', 'biaised.csv'))"
   ]
  },
  {
   "cell_type": "code",
   "execution_count": 186,
   "metadata": {},
   "outputs": [
    {
     "data": {
      "text/html": [
       "<div>\n",
       "<style scoped>\n",
       "    .dataframe tbody tr th:only-of-type {\n",
       "        vertical-align: middle;\n",
       "    }\n",
       "\n",
       "    .dataframe tbody tr th {\n",
       "        vertical-align: top;\n",
       "    }\n",
       "\n",
       "    .dataframe thead th {\n",
       "        text-align: right;\n",
       "    }\n",
       "</style>\n",
       "<table border=\"1\" class=\"dataframe\">\n",
       "  <thead>\n",
       "    <tr style=\"text-align: right;\">\n",
       "      <th></th>\n",
       "      <th>len_walk</th>\n",
       "      <th>rep</th>\n",
       "      <th>a1</th>\n",
       "      <th>a2</th>\n",
       "      <th>p1</th>\n",
       "      <th>p2</th>\n",
       "      <th>q1</th>\n",
       "      <th>q2</th>\n",
       "      <th>f1_score</th>\n",
       "      <th>precision</th>\n",
       "      <th>recall</th>\n",
       "    </tr>\n",
       "  </thead>\n",
       "  <tbody>\n",
       "    <tr>\n",
       "      <th>0</th>\n",
       "      <td>10</td>\n",
       "      <td>40</td>\n",
       "      <td>1.00</td>\n",
       "      <td>1.00</td>\n",
       "      <td>0.10</td>\n",
       "      <td>0.01</td>\n",
       "      <td>1.00</td>\n",
       "      <td>1.00</td>\n",
       "      <td>0.373303</td>\n",
       "      <td>0.373303</td>\n",
       "      <td>0.373303</td>\n",
       "    </tr>\n",
       "    <tr>\n",
       "      <th>1</th>\n",
       "      <td>10</td>\n",
       "      <td>40</td>\n",
       "      <td>0.01</td>\n",
       "      <td>0.10</td>\n",
       "      <td>1.00</td>\n",
       "      <td>1.00</td>\n",
       "      <td>1.00</td>\n",
       "      <td>1.00</td>\n",
       "      <td>0.366677</td>\n",
       "      <td>0.366677</td>\n",
       "      <td>0.366677</td>\n",
       "    </tr>\n",
       "    <tr>\n",
       "      <th>2</th>\n",
       "      <td>10</td>\n",
       "      <td>40</td>\n",
       "      <td>1.00</td>\n",
       "      <td>1.00</td>\n",
       "      <td>0.01</td>\n",
       "      <td>0.10</td>\n",
       "      <td>1.00</td>\n",
       "      <td>1.00</td>\n",
       "      <td>0.363284</td>\n",
       "      <td>0.363284</td>\n",
       "      <td>0.363284</td>\n",
       "    </tr>\n",
       "    <tr>\n",
       "      <th>3</th>\n",
       "      <td>10</td>\n",
       "      <td>40</td>\n",
       "      <td>1.00</td>\n",
       "      <td>1.00</td>\n",
       "      <td>1.00</td>\n",
       "      <td>1.00</td>\n",
       "      <td>0.01</td>\n",
       "      <td>0.10</td>\n",
       "      <td>0.367162</td>\n",
       "      <td>0.367162</td>\n",
       "      <td>0.367162</td>\n",
       "    </tr>\n",
       "    <tr>\n",
       "      <th>4</th>\n",
       "      <td>10</td>\n",
       "      <td>40</td>\n",
       "      <td>1.00</td>\n",
       "      <td>1.00</td>\n",
       "      <td>1.00</td>\n",
       "      <td>1.00</td>\n",
       "      <td>0.10</td>\n",
       "      <td>0.01</td>\n",
       "      <td>0.370394</td>\n",
       "      <td>0.370394</td>\n",
       "      <td>0.370394</td>\n",
       "    </tr>\n",
       "    <tr>\n",
       "      <th>5</th>\n",
       "      <td>10</td>\n",
       "      <td>40</td>\n",
       "      <td>0.10</td>\n",
       "      <td>0.01</td>\n",
       "      <td>1.00</td>\n",
       "      <td>1.00</td>\n",
       "      <td>1.00</td>\n",
       "      <td>1.00</td>\n",
       "      <td>0.357304</td>\n",
       "      <td>0.357304</td>\n",
       "      <td>0.357304</td>\n",
       "    </tr>\n",
       "    <tr>\n",
       "      <th>6</th>\n",
       "      <td>10</td>\n",
       "      <td>40</td>\n",
       "      <td>1.00</td>\n",
       "      <td>1.00</td>\n",
       "      <td>0.10</td>\n",
       "      <td>0.01</td>\n",
       "      <td>1.00</td>\n",
       "      <td>1.00</td>\n",
       "      <td>0.366354</td>\n",
       "      <td>0.366354</td>\n",
       "      <td>0.366354</td>\n",
       "    </tr>\n",
       "    <tr>\n",
       "      <th>7</th>\n",
       "      <td>10</td>\n",
       "      <td>40</td>\n",
       "      <td>0.01</td>\n",
       "      <td>0.10</td>\n",
       "      <td>1.00</td>\n",
       "      <td>1.00</td>\n",
       "      <td>1.00</td>\n",
       "      <td>1.00</td>\n",
       "      <td>0.377666</td>\n",
       "      <td>0.377666</td>\n",
       "      <td>0.377666</td>\n",
       "    </tr>\n",
       "    <tr>\n",
       "      <th>8</th>\n",
       "      <td>10</td>\n",
       "      <td>40</td>\n",
       "      <td>1.00</td>\n",
       "      <td>1.00</td>\n",
       "      <td>0.01</td>\n",
       "      <td>0.10</td>\n",
       "      <td>1.00</td>\n",
       "      <td>1.00</td>\n",
       "      <td>0.375727</td>\n",
       "      <td>0.375727</td>\n",
       "      <td>0.375727</td>\n",
       "    </tr>\n",
       "    <tr>\n",
       "      <th>9</th>\n",
       "      <td>10</td>\n",
       "      <td>40</td>\n",
       "      <td>1.00</td>\n",
       "      <td>1.00</td>\n",
       "      <td>1.00</td>\n",
       "      <td>1.00</td>\n",
       "      <td>0.01</td>\n",
       "      <td>0.10</td>\n",
       "      <td>0.366516</td>\n",
       "      <td>0.366516</td>\n",
       "      <td>0.366516</td>\n",
       "    </tr>\n",
       "    <tr>\n",
       "      <th>10</th>\n",
       "      <td>10</td>\n",
       "      <td>40</td>\n",
       "      <td>1.00</td>\n",
       "      <td>1.00</td>\n",
       "      <td>1.00</td>\n",
       "      <td>1.00</td>\n",
       "      <td>0.10</td>\n",
       "      <td>0.01</td>\n",
       "      <td>0.357789</td>\n",
       "      <td>0.357789</td>\n",
       "      <td>0.357789</td>\n",
       "    </tr>\n",
       "    <tr>\n",
       "      <th>11</th>\n",
       "      <td>10</td>\n",
       "      <td>40</td>\n",
       "      <td>0.10</td>\n",
       "      <td>0.01</td>\n",
       "      <td>1.00</td>\n",
       "      <td>1.00</td>\n",
       "      <td>1.00</td>\n",
       "      <td>1.00</td>\n",
       "      <td>0.368778</td>\n",
       "      <td>0.368778</td>\n",
       "      <td>0.368778</td>\n",
       "    </tr>\n",
       "  </tbody>\n",
       "</table>\n",
       "</div>"
      ],
      "text/plain": [
       "   len_walk rep    a1    a2    p1    p2    q1    q2  f1_score  precision  \\\n",
       "0        10  40  1.00  1.00  0.10  0.01  1.00  1.00  0.373303   0.373303   \n",
       "1        10  40  0.01  0.10  1.00  1.00  1.00  1.00  0.366677   0.366677   \n",
       "2        10  40  1.00  1.00  0.01  0.10  1.00  1.00  0.363284   0.363284   \n",
       "3        10  40  1.00  1.00  1.00  1.00  0.01  0.10  0.367162   0.367162   \n",
       "4        10  40  1.00  1.00  1.00  1.00  0.10  0.01  0.370394   0.370394   \n",
       "5        10  40  0.10  0.01  1.00  1.00  1.00  1.00  0.357304   0.357304   \n",
       "6        10  40  1.00  1.00  0.10  0.01  1.00  1.00  0.366354   0.366354   \n",
       "7        10  40  0.01  0.10  1.00  1.00  1.00  1.00  0.377666   0.377666   \n",
       "8        10  40  1.00  1.00  0.01  0.10  1.00  1.00  0.375727   0.375727   \n",
       "9        10  40  1.00  1.00  1.00  1.00  0.01  0.10  0.366516   0.366516   \n",
       "10       10  40  1.00  1.00  1.00  1.00  0.10  0.01  0.357789   0.357789   \n",
       "11       10  40  0.10  0.01  1.00  1.00  1.00  1.00  0.368778   0.368778   \n",
       "\n",
       "      recall  \n",
       "0   0.373303  \n",
       "1   0.366677  \n",
       "2   0.363284  \n",
       "3   0.367162  \n",
       "4   0.370394  \n",
       "5   0.357304  \n",
       "6   0.366354  \n",
       "7   0.377666  \n",
       "8   0.375727  \n",
       "9   0.366516  \n",
       "10  0.357789  \n",
       "11  0.368778  "
      ]
     },
     "execution_count": 186,
     "metadata": {},
     "output_type": "execute_result"
    }
   ],
   "source": [
    "res"
   ]
  },
  {
   "cell_type": "markdown",
   "metadata": {},
   "source": [
    "### Analyse results"
   ]
  },
  {
   "cell_type": "code",
   "execution_count": 224,
   "metadata": {},
   "outputs": [
    {
     "name": "stderr",
     "output_type": "stream",
     "text": [
      "100%|██████████| 10312/10312 [00:00<00:00, 17585.21it/s]\n"
     ]
    }
   ],
   "source": [
    "dict_core_walk = {}\n",
    "core_nb = nx.core_number(G)\n",
    "for node_walk in tqdm(walks):\n",
    "    walk_core_number = []\n",
    "    for node in node_walk[1:]:\n",
    "        walk_core_number.append(core_nb[node])\n",
    "    dict_core_walk[node_walk[0]] = walk_core_number\n",
    "    "
   ]
  },
  {
   "cell_type": "code",
   "execution_count": 225,
   "metadata": {},
   "outputs": [],
   "source": [
    "sorted_dict = sorted(dict_core_walk.items(), key=lambda kv: core_nb[kv[0]])"
   ]
  },
  {
   "cell_type": "code",
   "execution_count": 226,
   "metadata": {},
   "outputs": [],
   "source": [
    "indx = np.random.choice(np.arange(len(sorted_dict)), size=10)"
   ]
  },
  {
   "cell_type": "code",
   "execution_count": 240,
   "metadata": {},
   "outputs": [
    {
     "data": {
      "image/png": "[encoded data removed]",
      "text/plain": [
       "<Figure size 432x288 with 1 Axes>"
      ]
     },
     "metadata": {
      "needs_background": "light"
     },
     "output_type": "display_data"
    }
   ],
   "source": [
    "to_draw = np.array(sorted_dict)[:10]\n",
    "for node, walk in to_draw[:5]:\n",
    "    plt.plot(np.arange(len(walk)), walk, alpha=.5)\n",
    "    \n",
    "plt.show()"
   ]
  }
 ],
 "metadata": {
  "kernelspec": {
   "display_name": "Python 3",
   "language": "python",
   "name": "python3"
  },
  "language_info": {
   "codemirror_mode": {
    "name": "ipython",
    "version": 3
   },
   "file_extension": ".py",
   "mimetype": "text/x-python",
   "name": "python",
   "nbconvert_exporter": "python",
   "pygments_lexer": "ipython3",
   "version": "3.6.9"
  }
 },
 "nbformat": 4,
 "nbformat_minor": 2
}

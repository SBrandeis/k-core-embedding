{
 "cells": [
  {
   "cell_type": "code",
   "execution_count": 12,
   "metadata": {},
   "outputs": [],
   "source": [
    "from kce.evaluate import pre_process, node_classification_pipeline\n",
    "from kce.walk_based import deepwalk, corewalk\n",
    "import networkx as nx\n",
    "import matplotlib.pyplot as plt\n",
    "import numpy as np\n",
    "import sklearn"
   ]
  },
  {
   "cell_type": "code",
   "execution_count": 2,
   "metadata": {},
   "outputs": [],
   "source": [
    "G = nx.read_gml(\".\\\\..\\\\data\\\\dblp.gml\" )"
   ]
  },
  {
   "cell_type": "code",
   "execution_count": 3,
   "metadata": {},
   "outputs": [],
   "source": [
    "params = dict(\n",
    "    out_dim=150,\n",
    "    n_walks=10,\n",
    "    walk_length=25,\n",
    "    win_size=5,\n",
    ")"
   ]
  },
  {
   "cell_type": "markdown",
   "metadata": {},
   "source": [
    "## Training"
   ]
  },
  {
   "cell_type": "code",
   "execution_count": 5,
   "metadata": {},
   "outputs": [
    {
     "name": "stderr",
     "output_type": "stream",
     "text": [
      "C:\\Users\\sbran\\Anaconda3\\envs\\projet_recherche\\lib\\site-packages\\sklearn\\linear_model\\logistic.py:432: FutureWarning: Default solver will be changed to 'lbfgs' in 0.22. Specify a solver to silence this warning.\n",
      "  FutureWarning)\n",
      "C:\\Users\\sbran\\Anaconda3\\envs\\projet_recherche\\lib\\site-packages\\sklearn\\linear_model\\logistic.py:469: FutureWarning: Default multi_class will be changed to 'auto' in 0.22. Specify the multi_class option to silence this warning.\n",
      "  \"this warning.\", FutureWarning)\n"
     ]
    }
   ],
   "source": [
    "res_deep = node_classification_pipeline(graph=G,\n",
    "                                embedder=deepwalk.DeepWalk(**params),\n",
    "                                classifier=sklearn.linear_model.LogisticRegression(C=1))"
   ]
  },
  {
   "cell_type": "code",
   "execution_count": 28,
   "metadata": {},
   "outputs": [
    {
     "name": "stderr",
     "output_type": "stream",
     "text": [
      "C:\\Users\\sbran\\Anaconda3\\envs\\projet_recherche\\lib\\site-packages\\sklearn\\linear_model\\logistic.py:432: FutureWarning: Default solver will be changed to 'lbfgs' in 0.22. Specify a solver to silence this warning.\n",
      "  FutureWarning)\n",
      "C:\\Users\\sbran\\Anaconda3\\envs\\projet_recherche\\lib\\site-packages\\sklearn\\linear_model\\logistic.py:469: FutureWarning: Default multi_class will be changed to 'auto' in 0.22. Specify the multi_class option to silence this warning.\n",
      "  \"this warning.\", FutureWarning)\n"
     ]
    }
   ],
   "source": [
    "res = node_classification_pipeline(G,\n",
    "                                embedder=corewalk.CoreWalkLinear(**params, coef=0.25),\n",
    "                                classifier=sklearn.linear_model.LogisticRegression(C=1))"
   ]
  },
  {
   "cell_type": "code",
   "execution_count": 27,
   "metadata": {},
   "outputs": [
    {
     "name": "stdout",
     "output_type": "stream",
     "text": [
      "26\n"
     ]
    },
    {
     "data": {
      "image/png": "[encoded data removed]",
      "text/plain": [
       "<Figure size 432x288 with 1 Axes>"
      ]
     },
     "metadata": {
      "needs_background": "light"
     },
     "output_type": "display_data"
    }
   ],
   "source": [
    "k_max = max(nx.core_number(G).values())\n",
    "print(k_max)\n",
    "\n",
    "cw = corewalk.CoreWalkLinear(**params, coef=0.25)\n",
    "\n",
    "X = np.linspace(0, k_max)\n",
    "plt.plot(X, [cw._n_walks(k, k_max) for k in X])\n",
    "plt.show()"
   ]
  },
  {
   "cell_type": "code",
   "execution_count": 30,
   "metadata": {},
   "outputs": [
    {
     "data": {
      "text/plain": [
       "range(0, 27)"
      ]
     },
     "execution_count": 30,
     "metadata": {},
     "output_type": "execute_result"
    }
   ],
   "source": [
    "range(k_max + 1)"
   ]
  },
  {
   "cell_type": "markdown",
   "metadata": {},
   "source": [
    "## Display results"
   ]
  },
  {
   "cell_type": "code",
   "execution_count": 29,
   "metadata": {},
   "outputs": [
    {
     "name": "stdout",
     "output_type": "stream",
     "text": [
      "--- Vanilla DeepWalk ---\n",
      "Micro F1 score: 0.577\n",
      "Macro F1 score: 0.496\n",
      "Exec time: 528.06 s\n",
      "\n",
      "--- Modified DeepWalk ---\n",
      "Micro F1 score: 0.562  (- 2.75 %)\n",
      "Macro F1 score: 0.473  (- 4.49 %)\n",
      "Exec time: 202.73 s     (- 61.61 %)\n"
     ]
    }
   ],
   "source": [
    "print(\"--- Vanilla DeepWalk ---\")\n",
    "print(\"Micro F1 score: {:.3f}\".format(res_deep[\"micro_f1\"]))\n",
    "print(\"Macro F1 score: {:.3f}\".format(res_deep[\"macro_f1\"]))\n",
    "print(\"Exec time: {:.2f} s\".format(res_deep[\"rw_gen_time\"] + res_deep[\"embed_train_time\"]))\n",
    "print()\n",
    "print(\"--- Modified DeepWalk ---\")\n",
    "print(\"Micro F1 score: {:.3f}  (- {:.2f} %)\"\n",
    "      .format(res[\"micro_f1\"], \n",
    "              (res_deep[\"micro_f1\"] - res[\"micro_f1\"]) * 100 / res_deep[\"micro_f1\"]\n",
    "             ))\n",
    "print(\"Macro F1 score: {:.3f}  (- {:.2f} %)\"\n",
    "      .format(res[\"macro_f1\"], \n",
    "              (res_deep[\"macro_f1\"] - res[\"macro_f1\"]) * 100 / res_deep[\"macro_f1\"]\n",
    "             ))\n",
    "print(\"Exec time: {:.2f} s     (- {:.2f} %)\".format(\n",
    "    res[\"rw_gen_time\"] + res[\"embed_train_time\"],\n",
    "    ((res_deep[\"rw_gen_time\"] + res_deep[\"embed_train_time\"]) - (res[\"rw_gen_time\"] + res[\"embed_train_time\"])) * 100 / (res_deep[\"rw_gen_time\"] + res_deep[\"embed_train_time\"])\n",
    "    ))"
   ]
  },
  {
   "cell_type": "code",
   "execution_count": null,
   "metadata": {},
   "outputs": [],
   "source": []
  }
 ],
 "metadata": {
  "kernelspec": {
   "display_name": "Python 3",
   "language": "python",
   "name": "python3"
  },
  "language_info": {
   "codemirror_mode": {
    "name": "ipython",
    "version": 3
   },
   "file_extension": ".py",
   "mimetype": "text/x-python",
   "name": "python",
   "nbconvert_exporter": "python",
   "pygments_lexer": "ipython3",
   "version": "3.6.9"
  }
 },
 "nbformat": 4,
 "nbformat_minor": 2
}

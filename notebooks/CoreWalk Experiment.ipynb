{
 "cells": [
  {
   "cell_type": "code",
   "execution_count": 2,
   "metadata": {},
   "outputs": [],
   "source": [
    "from kce.evaluate import pre_process, node_classification_pipeline\n",
    "from kce.walk_based import deepwalk, corewalk\n",
    "import networkx as nx\n",
    "import matplotlib.pyplot as plt\n",
    "import numpy as np\n",
    "import sklearn"
   ]
  },
  {
   "cell_type": "code",
   "execution_count": 3,
   "metadata": {},
   "outputs": [],
   "source": [
    "G = nx.read_gml(\".\\\\..\\\\data\\\\dblp.gml\" )"
   ]
  },
  {
   "cell_type": "code",
   "execution_count": 24,
   "metadata": {},
   "outputs": [],
   "source": [
    "params = dict(\n",
    "    out_dim=150,\n",
    "    n_walks=15,\n",
    "    walk_length=25,\n",
    "    win_size=5,\n",
    ")"
   ]
  },
  {
   "cell_type": "markdown",
   "metadata": {},
   "source": [
    "## Training"
   ]
  },
  {
   "cell_type": "code",
   "execution_count": 27,
   "metadata": {},
   "outputs": [
    {
     "name": "stderr",
     "output_type": "stream",
     "text": [
      "C:\\Users\\sbran\\Anaconda3\\envs\\projet_recherche\\lib\\site-packages\\sklearn\\linear_model\\logistic.py:432: FutureWarning: Default solver will be changed to 'lbfgs' in 0.22. Specify a solver to silence this warning.\n",
      "  FutureWarning)\n",
      "C:\\Users\\sbran\\Anaconda3\\envs\\projet_recherche\\lib\\site-packages\\sklearn\\linear_model\\logistic.py:469: FutureWarning: Default multi_class will be changed to 'auto' in 0.22. Specify the multi_class option to silence this warning.\n",
      "  \"this warning.\", FutureWarning)\n"
     ]
    }
   ],
   "source": [
    "res_deep = node_classification_pipeline(graph=G,\n",
    "                                embedder=deepwalk.DeepWalk(**params),\n",
    "                                classifier=sklearn.linear_model.LogisticRegression(C=1))"
   ]
  },
  {
   "cell_type": "code",
   "execution_count": 26,
   "metadata": {},
   "outputs": [
    {
     "name": "stderr",
     "output_type": "stream",
     "text": [
      "C:\\Users\\sbran\\Anaconda3\\envs\\projet_recherche\\lib\\site-packages\\sklearn\\linear_model\\logistic.py:432: FutureWarning: Default solver will be changed to 'lbfgs' in 0.22. Specify a solver to silence this warning.\n",
      "  FutureWarning)\n",
      "C:\\Users\\sbran\\Anaconda3\\envs\\projet_recherche\\lib\\site-packages\\sklearn\\linear_model\\logistic.py:469: FutureWarning: Default multi_class will be changed to 'auto' in 0.22. Specify the multi_class option to silence this warning.\n",
      "  \"this warning.\", FutureWarning)\n"
     ]
    }
   ],
   "source": [
    "res = node_classification_pipeline(G,\n",
    "                                embedder=corewalk.CoreWalkLinear(**params),\n",
    "                                classifier=sklearn.linear_model.LogisticRegression(C=1))"
   ]
  },
  {
   "cell_type": "code",
   "execution_count": 40,
   "metadata": {
    "scrolled": true
   },
   "outputs": [
    {
     "name": "stdout",
     "output_type": "stream",
     "text": [
      "26\n"
     ]
    },
    {
     "data": {
      "image/png": "[encoded data removed]",
      "text/plain": [
       "<Figure size 432x288 with 1 Axes>"
      ]
     },
     "metadata": {
      "needs_background": "light"
     },
     "output_type": "display_data"
    }
   ],
   "source": [
    "k_max = max(nx.core_number(G).values())\n",
    "print(k_max)\n",
    "\n",
    "cw = corewalk.CoreWalkLinear(**params)\n",
    "\n",
    "X = np.linspace(0, k_max)\n",
    "\n",
    "plt.figure(figsize=(6,4))\n",
    "plt.plot(X, [cw._n_walks(k, k_max) for k in X], '.')\n",
    "plt.plot(X, params[\"n_walks\"]*X/k_max)\n",
    "plt.grid()\n",
    "plt.ylim(-1, params[\"n_walks\"] +1 )\n",
    "plt.xlabel(\"k-core index of starting node\")\n",
    "plt.ylabel(\"Number of random walks generated\")\n",
    "plt.show()"
   ]
  },
  {
   "cell_type": "code",
   "execution_count": 30,
   "metadata": {},
   "outputs": [
    {
     "data": {
      "text/plain": [
       "range(0, 27)"
      ]
     },
     "execution_count": 30,
     "metadata": {},
     "output_type": "execute_result"
    }
   ],
   "source": [
    "range(k_max + 1)"
   ]
  },
  {
   "cell_type": "markdown",
   "metadata": {},
   "source": [
    "## Display results"
   ]
  },
  {
   "cell_type": "code",
   "execution_count": 28,
   "metadata": {},
   "outputs": [
    {
     "name": "stdout",
     "output_type": "stream",
     "text": [
      "--- Vanilla DeepWalk ---\n",
      "Micro F1 score: 0.572\n",
      "Macro F1 score: 0.489\n",
      "Exec time: 787.28 s\n",
      "\n",
      "--- Modified DeepWalk ---\n",
      "Micro F1 score: 0.571  (- 0.32 %)\n",
      "Macro F1 score: 0.483  (- 1.23 %)\n",
      "Exec time: 107.33 s     (- 86.37 %)\n"
     ]
    }
   ],
   "source": [
    "print(\"--- Vanilla DeepWalk ---\")\n",
    "print(\"Micro F1 score: {:.3f}\".format(res_deep[\"micro_f1\"]))\n",
    "print(\"Macro F1 score: {:.3f}\".format(res_deep[\"macro_f1\"]))\n",
    "print(\"Exec time: {:.2f} s\".format(res_deep[\"rw_gen_time\"] + res_deep[\"embed_train_time\"]))\n",
    "print()\n",
    "print(\"--- Modified DeepWalk ---\")\n",
    "print(\"Micro F1 score: {:.3f}  (- {:.2f} %)\"\n",
    "      .format(res[\"micro_f1\"], \n",
    "              (res_deep[\"micro_f1\"] - res[\"micro_f1\"]) * 100 / res_deep[\"micro_f1\"]\n",
    "             ))\n",
    "print(\"Macro F1 score: {:.3f}  (- {:.2f} %)\"\n",
    "      .format(res[\"macro_f1\"], \n",
    "              (res_deep[\"macro_f1\"] - res[\"macro_f1\"]) * 100 / res_deep[\"macro_f1\"]\n",
    "             ))\n",
    "print(\"Exec time: {:.2f} s     (- {:.2f} %)\".format(\n",
    "    res[\"rw_gen_time\"] + res[\"embed_train_time\"],\n",
    "    ((res_deep[\"rw_gen_time\"] + res_deep[\"embed_train_time\"]) - (res[\"rw_gen_time\"] + res[\"embed_train_time\"])) * 100 / (res_deep[\"rw_gen_time\"] + res_deep[\"embed_train_time\"])\n",
    "    ))"
   ]
  },
  {
   "cell_type": "markdown",
   "metadata": {},
   "source": [
    "# Citeseer"
   ]
  },
  {
   "cell_type": "code",
   "execution_count": 48,
   "metadata": {},
   "outputs": [],
   "source": [
    "G = nx.read_gml(\".\\\\..\\\\data\\\\citeseer.gml\" )\n",
    "G.remove_edges_from(nx.selfloop_edges(G))\n",
    "G = nx.k_core(G, 1)"
   ]
  },
  {
   "cell_type": "code",
   "execution_count": 49,
   "metadata": {},
   "outputs": [],
   "source": [
    "params = dict(\n",
    "    out_dim=150,\n",
    "    n_walks=15,\n",
    "    walk_length=25,\n",
    "    win_size=5,\n",
    ")"
   ]
  },
  {
   "cell_type": "markdown",
   "metadata": {},
   "source": [
    "## Training"
   ]
  },
  {
   "cell_type": "code",
   "execution_count": 54,
   "metadata": {},
   "outputs": [
    {
     "name": "stderr",
     "output_type": "stream",
     "text": [
      "C:\\Users\\sbran\\Anaconda3\\envs\\projet_recherche\\lib\\site-packages\\sklearn\\linear_model\\logistic.py:432: FutureWarning: Default solver will be changed to 'lbfgs' in 0.22. Specify a solver to silence this warning.\n",
      "  FutureWarning)\n",
      "C:\\Users\\sbran\\Anaconda3\\envs\\projet_recherche\\lib\\site-packages\\sklearn\\linear_model\\logistic.py:469: FutureWarning: Default multi_class will be changed to 'auto' in 0.22. Specify the multi_class option to silence this warning.\n",
      "  \"this warning.\", FutureWarning)\n"
     ]
    }
   ],
   "source": [
    "res_deep = node_classification_pipeline(graph=G,\n",
    "                                embedder=deepwalk.DeepWalk(**params),\n",
    "                                classifier=sklearn.linear_model.LogisticRegression(C=1))"
   ]
  },
  {
   "cell_type": "code",
   "execution_count": 53,
   "metadata": {},
   "outputs": [
    {
     "name": "stderr",
     "output_type": "stream",
     "text": [
      "C:\\Users\\sbran\\Anaconda3\\envs\\projet_recherche\\lib\\site-packages\\sklearn\\linear_model\\logistic.py:432: FutureWarning: Default solver will be changed to 'lbfgs' in 0.22. Specify a solver to silence this warning.\n",
      "  FutureWarning)\n",
      "C:\\Users\\sbran\\Anaconda3\\envs\\projet_recherche\\lib\\site-packages\\sklearn\\linear_model\\logistic.py:469: FutureWarning: Default multi_class will be changed to 'auto' in 0.22. Specify the multi_class option to silence this warning.\n",
      "  \"this warning.\", FutureWarning)\n"
     ]
    }
   ],
   "source": [
    "res = node_classification_pipeline(G,\n",
    "                                embedder=corewalk.CoreWalkLinear(**params),\n",
    "                                classifier=sklearn.linear_model.LogisticRegression(C=1))"
   ]
  },
  {
   "cell_type": "code",
   "execution_count": 52,
   "metadata": {
    "scrolled": true
   },
   "outputs": [
    {
     "name": "stdout",
     "output_type": "stream",
     "text": [
      "7\n"
     ]
    },
    {
     "data": {
      "image/png": "[encoded data removed]",
      "text/plain": [
       "<Figure size 432x288 with 1 Axes>"
      ]
     },
     "metadata": {
      "needs_background": "light"
     },
     "output_type": "display_data"
    }
   ],
   "source": [
    "k_max = max(nx.core_number(G).values())\n",
    "print(k_max)\n",
    "\n",
    "cw = corewalk.CoreWalkLinear(**params)\n",
    "\n",
    "X = np.linspace(0, k_max)\n",
    "\n",
    "plt.figure(figsize=(6,4))\n",
    "plt.plot(X, [cw._n_walks(k, k_max) for k in X], '.')\n",
    "plt.plot(X, params[\"n_walks\"]*X/k_max)\n",
    "plt.grid()\n",
    "plt.ylim(-1, params[\"n_walks\"] +1 )\n",
    "plt.xlabel(\"k-core index of starting node\")\n",
    "plt.ylabel(\"Number of random walks generated\")\n",
    "plt.show()"
   ]
  },
  {
   "cell_type": "code",
   "execution_count": 30,
   "metadata": {},
   "outputs": [
    {
     "data": {
      "text/plain": [
       "range(0, 27)"
      ]
     },
     "execution_count": 30,
     "metadata": {},
     "output_type": "execute_result"
    }
   ],
   "source": [
    "range(k_max + 1)"
   ]
  },
  {
   "cell_type": "markdown",
   "metadata": {},
   "source": [
    "## Display results"
   ]
  },
  {
   "cell_type": "code",
   "execution_count": 55,
   "metadata": {
    "scrolled": true
   },
   "outputs": [
    {
     "name": "stdout",
     "output_type": "stream",
     "text": [
      "--- Vanilla DeepWalk ---\n",
      "Micro F1 score: 0.478\n",
      "Macro F1 score: 0.426\n",
      "Exec time: 76.29 s\n",
      "\n",
      "--- Modified DeepWalk ---\n",
      "Micro F1 score: 0.483  (- -1.18 %)\n",
      "Macro F1 score: 0.427  (- -0.27 %)\n",
      "Exec time: 21.80 s     (- 71.42 %)\n"
     ]
    }
   ],
   "source": [
    "print(\"--- Vanilla DeepWalk ---\")\n",
    "print(\"Micro F1 score: {:.3f}\".format(res_deep[\"micro_f1\"]))\n",
    "print(\"Macro F1 score: {:.3f}\".format(res_deep[\"macro_f1\"]))\n",
    "print(\"Exec time: {:.2f} s\".format(res_deep[\"rw_gen_time\"] + res_deep[\"embed_train_time\"]))\n",
    "print()\n",
    "print(\"--- Modified DeepWalk ---\")\n",
    "print(\"Micro F1 score: {:.3f}  (- {:.2f} %)\"\n",
    "      .format(res[\"micro_f1\"], \n",
    "              (res_deep[\"micro_f1\"] - res[\"micro_f1\"]) * 100 / res_deep[\"micro_f1\"]\n",
    "             ))\n",
    "print(\"Macro F1 score: {:.3f}  (- {:.2f} %)\"\n",
    "      .format(res[\"macro_f1\"], \n",
    "              (res_deep[\"macro_f1\"] - res[\"macro_f1\"]) * 100 / res_deep[\"macro_f1\"]\n",
    "             ))\n",
    "print(\"Exec time: {:.2f} s     (- {:.2f} %)\".format(\n",
    "    res[\"rw_gen_time\"] + res[\"embed_train_time\"],\n",
    "    ((res_deep[\"rw_gen_time\"] + res_deep[\"embed_train_time\"]) - (res[\"rw_gen_time\"] + res[\"embed_train_time\"])) * 100 / (res_deep[\"rw_gen_time\"] + res_deep[\"embed_train_time\"])\n",
    "    ))"
   ]
  },
  {
   "cell_type": "code",
   "execution_count": null,
   "metadata": {},
   "outputs": [],
   "source": []
  },
  {
   "cell_type": "markdown",
   "metadata": {},
   "source": [
    "# Homo Sapiens"
   ]
  },
  {
   "cell_type": "code",
   "execution_count": 57,
   "metadata": {},
   "outputs": [],
   "source": [
    "G = nx.read_gml(\".\\\\..\\\\data\\\\homo_sapiens.gml\" )\n",
    "G.remove_edges_from(nx.selfloop_edges(G))\n",
    "G = nx.k_core(G, 1)"
   ]
  },
  {
   "cell_type": "code",
   "execution_count": 58,
   "metadata": {},
   "outputs": [],
   "source": [
    "params = dict(\n",
    "    out_dim=150,\n",
    "    n_walks=15,\n",
    "    walk_length=25,\n",
    "    win_size=5,\n",
    ")"
   ]
  },
  {
   "cell_type": "markdown",
   "metadata": {},
   "source": [
    "## Training"
   ]
  },
  {
   "cell_type": "code",
   "execution_count": null,
   "metadata": {},
   "outputs": [],
   "source": [
    "res_deep = node_classification_pipeline(graph=G,\n",
    "                                embedder=deepwalk.DeepWalk(**params),\n",
    "                                classifier=sklearn.linear_model.LogisticRegression(C=1))"
   ]
  },
  {
   "cell_type": "code",
   "execution_count": 59,
   "metadata": {},
   "outputs": [
    {
     "name": "stderr",
     "output_type": "stream",
     "text": [
      "C:\\Users\\sbran\\Anaconda3\\envs\\projet_recherche\\lib\\site-packages\\sklearn\\linear_model\\logistic.py:432: FutureWarning: Default solver will be changed to 'lbfgs' in 0.22. Specify a solver to silence this warning.\n",
      "  FutureWarning)\n"
     ]
    },
    {
     "ename": "ValueError",
     "evalue": "Unknown label type: 'unknown'",
     "output_type": "error",
     "traceback": [
      "\u001b[1;31m---------------------------------------------------------------------------\u001b[0m",
      "\u001b[1;31mValueError\u001b[0m                                Traceback (most recent call last)",
      "\u001b[1;32m<ipython-input-59-756c91b452b7>\u001b[0m in \u001b[0;36m<module>\u001b[1;34m\u001b[0m\n\u001b[0;32m      1\u001b[0m res = node_classification_pipeline(G,\n\u001b[0;32m      2\u001b[0m                                 \u001b[0membedder\u001b[0m\u001b[1;33m=\u001b[0m\u001b[0mcorewalk\u001b[0m\u001b[1;33m.\u001b[0m\u001b[0mCoreWalkLinear\u001b[0m\u001b[1;33m(\u001b[0m\u001b[1;33m**\u001b[0m\u001b[0mparams\u001b[0m\u001b[1;33m)\u001b[0m\u001b[1;33m,\u001b[0m\u001b[1;33m\u001b[0m\u001b[1;33m\u001b[0m\u001b[0m\n\u001b[1;32m----> 3\u001b[1;33m                                 classifier=sklearn.linear_model.LogisticRegression(C=1))\n\u001b[0m",
      "\u001b[1;32md:\\sbran\\cours\\ecp\\3a\\projet de recherche\\k-core-embedding\\src\\kce\\evaluate.py\u001b[0m in \u001b[0;36mnode_classification_pipeline\u001b[1;34m(graph, embedder, classifier, test_size)\u001b[0m\n\u001b[0;32m     21\u001b[0m     \u001b[0mX_train\u001b[0m\u001b[1;33m,\u001b[0m \u001b[0mX_test\u001b[0m\u001b[1;33m,\u001b[0m \u001b[0mY_train\u001b[0m\u001b[1;33m,\u001b[0m \u001b[0mY_test\u001b[0m \u001b[1;33m=\u001b[0m \u001b[0mtrain_test_split\u001b[0m\u001b[1;33m(\u001b[0m\u001b[0mX\u001b[0m\u001b[1;33m,\u001b[0m \u001b[0mY\u001b[0m\u001b[1;33m,\u001b[0m \u001b[0mtest_size\u001b[0m\u001b[1;33m=\u001b[0m\u001b[0mtest_size\u001b[0m\u001b[1;33m)\u001b[0m\u001b[1;33m\u001b[0m\u001b[1;33m\u001b[0m\u001b[0m\n\u001b[0;32m     22\u001b[0m \u001b[1;33m\u001b[0m\u001b[0m\n\u001b[1;32m---> 23\u001b[1;33m     \u001b[0mclassifier\u001b[0m\u001b[1;33m.\u001b[0m\u001b[0mfit\u001b[0m\u001b[1;33m(\u001b[0m\u001b[0mX_train\u001b[0m\u001b[1;33m,\u001b[0m \u001b[0mY_train\u001b[0m\u001b[1;33m)\u001b[0m\u001b[1;33m\u001b[0m\u001b[1;33m\u001b[0m\u001b[0m\n\u001b[0m\u001b[0;32m     24\u001b[0m     \u001b[0my_pred\u001b[0m \u001b[1;33m=\u001b[0m \u001b[0mclassifier\u001b[0m\u001b[1;33m.\u001b[0m\u001b[0mpredict\u001b[0m\u001b[1;33m(\u001b[0m\u001b[0mX_test\u001b[0m\u001b[1;33m)\u001b[0m\u001b[1;33m\u001b[0m\u001b[1;33m\u001b[0m\u001b[0m\n\u001b[0;32m     25\u001b[0m     \u001b[0my_true\u001b[0m \u001b[1;33m=\u001b[0m \u001b[0mY_test\u001b[0m\u001b[1;33m\u001b[0m\u001b[1;33m\u001b[0m\u001b[0m\n",
      "\u001b[1;32m~\\Anaconda3\\envs\\projet_recherche\\lib\\site-packages\\sklearn\\linear_model\\logistic.py\u001b[0m in \u001b[0;36mfit\u001b[1;34m(self, X, y, sample_weight)\u001b[0m\n\u001b[0;32m   1531\u001b[0m         X, y = check_X_y(X, y, accept_sparse='csr', dtype=_dtype, order=\"C\",\n\u001b[0;32m   1532\u001b[0m                          accept_large_sparse=solver != 'liblinear')\n\u001b[1;32m-> 1533\u001b[1;33m         \u001b[0mcheck_classification_targets\u001b[0m\u001b[1;33m(\u001b[0m\u001b[0my\u001b[0m\u001b[1;33m)\u001b[0m\u001b[1;33m\u001b[0m\u001b[1;33m\u001b[0m\u001b[0m\n\u001b[0m\u001b[0;32m   1534\u001b[0m         \u001b[0mself\u001b[0m\u001b[1;33m.\u001b[0m\u001b[0mclasses_\u001b[0m \u001b[1;33m=\u001b[0m \u001b[0mnp\u001b[0m\u001b[1;33m.\u001b[0m\u001b[0munique\u001b[0m\u001b[1;33m(\u001b[0m\u001b[0my\u001b[0m\u001b[1;33m)\u001b[0m\u001b[1;33m\u001b[0m\u001b[1;33m\u001b[0m\u001b[0m\n\u001b[0;32m   1535\u001b[0m         \u001b[0mn_samples\u001b[0m\u001b[1;33m,\u001b[0m \u001b[0mn_features\u001b[0m \u001b[1;33m=\u001b[0m \u001b[0mX\u001b[0m\u001b[1;33m.\u001b[0m\u001b[0mshape\u001b[0m\u001b[1;33m\u001b[0m\u001b[1;33m\u001b[0m\u001b[0m\n",
      "\u001b[1;32m~\\Anaconda3\\envs\\projet_recherche\\lib\\site-packages\\sklearn\\utils\\multiclass.py\u001b[0m in \u001b[0;36mcheck_classification_targets\u001b[1;34m(y)\u001b[0m\n\u001b[0;32m    167\u001b[0m     if y_type not in ['binary', 'multiclass', 'multiclass-multioutput',\n\u001b[0;32m    168\u001b[0m                       'multilabel-indicator', 'multilabel-sequences']:\n\u001b[1;32m--> 169\u001b[1;33m         \u001b[1;32mraise\u001b[0m \u001b[0mValueError\u001b[0m\u001b[1;33m(\u001b[0m\u001b[1;34m\"Unknown label type: %r\"\u001b[0m \u001b[1;33m%\u001b[0m \u001b[0my_type\u001b[0m\u001b[1;33m)\u001b[0m\u001b[1;33m\u001b[0m\u001b[1;33m\u001b[0m\u001b[0m\n\u001b[0m\u001b[0;32m    170\u001b[0m \u001b[1;33m\u001b[0m\u001b[0m\n\u001b[0;32m    171\u001b[0m \u001b[1;33m\u001b[0m\u001b[0m\n",
      "\u001b[1;31mValueError\u001b[0m: Unknown label type: 'unknown'"
     ]
    }
   ],
   "source": [
    "res = node_classification_pipeline(G,\n",
    "                                embedder=corewalk.CoreWalkLinear(**params),\n",
    "                                classifier=sklearn.linear_model.LogisticRegression(C=1))"
   ]
  },
  {
   "cell_type": "code",
   "execution_count": 52,
   "metadata": {
    "scrolled": true
   },
   "outputs": [
    {
     "name": "stdout",
     "output_type": "stream",
     "text": [
      "7\n"
     ]
    },
    {
     "data": {
      "image/png": "[encoded data removed]",
      "text/plain": [
       "<Figure size 432x288 with 1 Axes>"
      ]
     },
     "metadata": {
      "needs_background": "light"
     },
     "output_type": "display_data"
    }
   ],
   "source": [
    "k_max = max(nx.core_number(G).values())\n",
    "print(k_max)\n",
    "\n",
    "cw = corewalk.CoreWalkLinear(**params)\n",
    "\n",
    "X = np.linspace(0, k_max)\n",
    "\n",
    "plt.figure(figsize=(6,4))\n",
    "plt.plot(X, [cw._n_walks(k, k_max) for k in X], '.')\n",
    "plt.plot(X, params[\"n_walks\"]*X/k_max)\n",
    "plt.grid()\n",
    "plt.ylim(-1, params[\"n_walks\"] +1 )\n",
    "plt.xlabel(\"k-core index of starting node\")\n",
    "plt.ylabel(\"Number of random walks generated\")\n",
    "plt.show()"
   ]
  },
  {
   "cell_type": "code",
   "execution_count": 30,
   "metadata": {},
   "outputs": [
    {
     "data": {
      "text/plain": [
       "range(0, 27)"
      ]
     },
     "execution_count": 30,
     "metadata": {},
     "output_type": "execute_result"
    }
   ],
   "source": [
    "range(k_max + 1)"
   ]
  },
  {
   "cell_type": "markdown",
   "metadata": {},
   "source": [
    "## Display results"
   ]
  },
  {
   "cell_type": "code",
   "execution_count": null,
   "metadata": {
    "scrolled": true
   },
   "outputs": [],
   "source": [
    "print(\"--- Vanilla DeepWalk ---\")\n",
    "print(\"Micro F1 score: {:.3f}\".format(res_deep[\"micro_f1\"]))\n",
    "print(\"Macro F1 score: {:.3f}\".format(res_deep[\"macro_f1\"]))\n",
    "print(\"Exec time: {:.2f} s\".format(res_deep[\"rw_gen_time\"] + res_deep[\"embed_train_time\"]))\n",
    "print()\n",
    "print(\"--- Modified DeepWalk ---\")\n",
    "print(\"Micro F1 score: {:.3f}  (- {:.2f} %)\"\n",
    "      .format(res[\"micro_f1\"], \n",
    "              (res_deep[\"micro_f1\"] - res[\"micro_f1\"]) * 100 / res_deep[\"micro_f1\"]\n",
    "             ))\n",
    "print(\"Macro F1 score: {:.3f}  (- {:.2f} %)\"\n",
    "      .format(res[\"macro_f1\"], \n",
    "              (res_deep[\"macro_f1\"] - res[\"macro_f1\"]) * 100 / res_deep[\"macro_f1\"]\n",
    "             ))\n",
    "print(\"Exec time: {:.2f} s     (- {:.2f} %)\".format(\n",
    "    res[\"rw_gen_time\"] + res[\"embed_train_time\"],\n",
    "    ((res_deep[\"rw_gen_time\"] + res_deep[\"embed_train_time\"]) - (res[\"rw_gen_time\"] + res[\"embed_train_time\"])) * 100 / (res_deep[\"rw_gen_time\"] + res_deep[\"embed_train_time\"])\n",
    "    ))"
   ]
  },
  {
   "cell_type": "code",
   "execution_count": null,
   "metadata": {},
   "outputs": [],
   "source": []
  }
 ],
 "metadata": {
  "kernelspec": {
   "display_name": "Python 3",
   "language": "python",
   "name": "python3"
  },
  "language_info": {
   "codemirror_mode": {
    "name": "ipython",
    "version": 3
   },
   "file_extension": ".py",
   "mimetype": "text/x-python",
   "name": "python",
   "nbconvert_exporter": "python",
   "pygments_lexer": "ipython3",
   "version": "3.6.9"
  }
 },
 "nbformat": 4,
 "nbformat_minor": 2
}

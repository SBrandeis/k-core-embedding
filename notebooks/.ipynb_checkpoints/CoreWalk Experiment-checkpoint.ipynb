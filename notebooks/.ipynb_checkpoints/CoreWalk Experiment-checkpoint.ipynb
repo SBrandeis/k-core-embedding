{
 "cells": [
  {
   "cell_type": "code",
   "execution_count": 1,
   "metadata": {},
   "outputs": [],
   "source": [
    "from kce.evaluate import pre_process, node_classification_pipeline\n",
    "from kce.walk_based.deepwalk import DeepWalk\n",
    "from kce.walk_based.corewalk import CoreWalkLinear, CoreWalkPower, CoreWalkSigmoid\n",
    "\n",
    "from sklearn.linear_model import LogisticRegression\n",
    "import networkx as nx\n",
    "import matplotlib.pyplot as plt\n",
    "import numpy as np\n"
   ]
  },
  {
   "cell_type": "code",
   "execution_count": 2,
   "metadata": {},
   "outputs": [],
   "source": [
    "path_to_data = '../data/'"
   ]
  },
  {
   "cell_type": "code",
   "execution_count": 3,
   "metadata": {},
   "outputs": [],
   "source": [
    "seed=11"
   ]
  },
  {
   "cell_type": "code",
   "execution_count": 4,
   "metadata": {},
   "outputs": [],
   "source": [
    "graph = nx.read_gml(path_to_data + \"dblp.gml\")\n",
    "graph = pre_process(graph)\n"
   ]
  },
  {
   "cell_type": "code",
   "execution_count": 5,
   "metadata": {},
   "outputs": [
    {
     "name": "stdout",
     "output_type": "stream",
     "text": [
      "26\n"
     ]
    }
   ],
   "source": [
    "max_k = max(nx.core_number(graph).values())\n",
    "print(max_k)"
   ]
  },
  {
   "cell_type": "code",
   "execution_count": 6,
   "metadata": {
    "scrolled": true
   },
   "outputs": [
    {
     "name": "stdout",
     "output_type": "stream",
     "text": [
      "27199 66832\n"
     ]
    }
   ],
   "source": [
    "print(len(graph.nodes), len(graph.edges))"
   ]
  },
  {
   "cell_type": "code",
   "execution_count": 8,
   "metadata": {},
   "outputs": [],
   "source": [
    "def plot_nwalks(k_max, model):\n",
    "    K = range(1, k_max+1)\n",
    "    plt.plot(K, [model._n_walks(k, k_max) for k in K])\n",
    "    plt.xlabel(\"Core index\")\n",
    "    plt.ylabel(\"Number of random walks\")\n",
    "    plt.grid()\n",
    "    plt.show()"
   ]
  },
  {
   "cell_type": "code",
   "execution_count": 9,
   "metadata": {},
   "outputs": [],
   "source": [
    "def disp_res(res):\n",
    "    print(\"RW gen time: \", res[\"rw_gen_time\"])\n",
    "    print(\"Embedding training time: \", res[\"embed_train_time\"])\n",
    "    print(\"Micro F1\", res[\"micro_f1\"])\n",
    "    print(\"Macro F1: \", res[\"macro_f1\"])"
   ]
  },
  {
   "cell_type": "markdown",
   "metadata": {},
   "source": [
    "## Train the embeddings"
   ]
  },
  {
   "cell_type": "code",
   "execution_count": 10,
   "metadata": {},
   "outputs": [],
   "source": [
    "args = dict(out_dim=100, n_walks=20, walk_length=20, win_size=5)\n",
    "\n",
    "dw = DeepWalk(**args)\n",
    "cwl = CoreWalkLinear(coef=20/max_k, **args)\n",
    "cwp = CoreWalkPower(pow=2, **args)\n",
    "cws = CoreWalkSigmoid(**args)"
   ]
  },
  {
   "cell_type": "markdown",
   "metadata": {},
   "source": [
    "### Vanilla DeepWalk"
   ]
  },
  {
   "cell_type": "code",
   "execution_count": 29,
   "metadata": {},
   "outputs": [],
   "source": [
    "model = LogisticRegression(penalty='l2', solver='lbfgs', multi_class='ovr')\n",
    "resdw = node_classification_pipeline(graph, dw, model)"
   ]
  },
  {
   "cell_type": "code",
   "execution_count": 35,
   "metadata": {},
   "outputs": [
    {
     "name": "stdout",
     "output_type": "stream",
     "text": [
      "RW gen time:  731.1468095779419\n",
      "Embedding training time:  247.66105604171753\n",
      "Micro F1 0.5767156862745098\n",
      "Macro F1:  0.48405795964523557\n"
     ]
    }
   ],
   "source": [
    "disp_res(resdw)"
   ]
  },
  {
   "cell_type": "markdown",
   "metadata": {},
   "source": [
    "### Linear scaled DeepWalk"
   ]
  },
  {
   "cell_type": "code",
   "execution_count": null,
   "metadata": {},
   "outputs": [],
   "source": [
    "model = LogisticRegression(penalty='l2', solver='lbfgs', multi_class='ovr')\n",
    "rescwl = node_classification_pipeline(graph, cwl, model)"
   ]
  },
  {
   "cell_type": "code",
   "execution_count": null,
   "metadata": {},
   "outputs": [],
   "source": [
    "plot_nwalks(max_k, cwl)\n",
    "disp_res(rescwl)"
   ]
  },
  {
   "cell_type": "markdown",
   "metadata": {},
   "source": [
    "### Quadratic scaled DeepWalk"
   ]
  },
  {
   "cell_type": "code",
   "execution_count": null,
   "metadata": {},
   "outputs": [],
   "source": [
    "model = LogisticRegression(penalty='l2', solver='lbfgs', multi_class='ovr')\n",
    "rescwp = node_classification_pipeline(graph, cwp, model)"
   ]
  },
  {
   "cell_type": "code",
   "execution_count": null,
   "metadata": {},
   "outputs": [],
   "source": [
    "plot_nwalks(max_k, cwp)\n",
    "disp_res(rescwp)"
   ]
  },
  {
   "cell_type": "markdown",
   "metadata": {},
   "source": [
    "### Sigmoid scaled DeepWalk"
   ]
  },
  {
   "cell_type": "code",
   "execution_count": null,
   "metadata": {},
   "outputs": [],
   "source": [
    "model = LogisticRegression(penalty='l2', solver='lbfgs', multi_class='ovr')\n",
    "rescws = node_classification_pipeline(graph, cws, model)"
   ]
  },
  {
   "cell_type": "code",
   "execution_count": null,
   "metadata": {},
   "outputs": [],
   "source": [
    "plot_nwalks(max_k, cws)\n",
    "disp_res(rescws)"
   ]
  },
  {
   "cell_type": "code",
   "execution_count": null,
   "metadata": {},
   "outputs": [],
   "source": []
  }
 ],
 "metadata": {
  "kernelspec": {
   "display_name": "Python 3",
   "language": "python",
   "name": "python3"
  },
  "language_info": {
   "codemirror_mode": {
    "name": "ipython",
    "version": 3
   },
   "file_extension": ".py",
   "mimetype": "text/x-python",
   "name": "python",
   "nbconvert_exporter": "python",
   "pygments_lexer": "ipython3",
   "version": "3.6.9"
  }
 },
 "nbformat": 4,
 "nbformat_minor": 2
}

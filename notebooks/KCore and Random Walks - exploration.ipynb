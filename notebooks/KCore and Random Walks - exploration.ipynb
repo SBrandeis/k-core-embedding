{
 "cells": [
  {
   "cell_type": "code",
   "execution_count": 1,
   "metadata": {},
   "outputs": [],
   "source": [
    "import networkx as nx\n",
    "import matplotlib.pyplot as plt\n",
    "from node2vec.node2vec import node2vec\n",
    "import numpy as np\n",
    "from tqdm import tqdm_notebook as tqdm"
   ]
  },
  {
   "cell_type": "code",
   "execution_count": 173,
   "metadata": {},
   "outputs": [
    {
     "name": "stdout",
     "output_type": "stream",
     "text": [
      "# Nodes:  27199\n",
      "#Edges:  66832\n"
     ]
    }
   ],
   "source": [
    "G = nx.read_gml(\".\\\\data\\\\datasets\\\\dblp.gml\" )\n",
    "print(\"# Nodes: \", len(G.nodes))\n",
    "print(\"#Edges: \", len(G.edges))"
   ]
  },
  {
   "cell_type": "code",
   "execution_count": 174,
   "metadata": {},
   "outputs": [
    {
     "data": {
      "text/plain": [
       "{'community': 0}"
      ]
     },
     "execution_count": 174,
     "metadata": {},
     "output_type": "execute_result"
    }
   ],
   "source": [
    "G.nodes['0']"
   ]
  },
  {
   "cell_type": "code",
   "execution_count": 188,
   "metadata": {},
   "outputs": [],
   "source": [
    "def draw_graph(graph):\n",
    "    fig = plt.figure(figsize=(30, 30))\n",
    "    nodes = [i for i in range(len(graph.nodes)) if i%100 ==0]\n",
    "    pos = nx.spring_layout(graph)\n",
    "    labels = [graph.nodes[n][\"community\"] for n in graph.nodes if n in nodes]\n",
    "    nx.draw_networkx_nodes(graph, pos, nodelist=nodes, alpha=0.5, node_size=30, node_color=labels)\n",
    "    nx.draw_networkx_edges(graph, pos, nodelist=nodes, alpha=0.5)\n",
    "    plt.show()"
   ]
  },
  {
   "cell_type": "code",
   "execution_count": 189,
   "metadata": {
    "scrolled": false
   },
   "outputs": [
    {
     "name": "stderr",
     "output_type": "stream",
     "text": [
      "\n",
      "KeyboardInterrupt\n",
      "\n"
     ]
    },
    {
     "data": {
      "text/plain": [
       "<Figure size 2160x2160 with 0 Axes>"
      ]
     },
     "metadata": {},
     "output_type": "display_data"
    }
   ],
   "source": [
    "draw_graph(G)"
   ]
  },
  {
   "cell_type": "markdown",
   "metadata": {},
   "source": [
    "## Influence of the p and q parameters"
   ]
  },
  {
   "cell_type": "code",
   "execution_count": 158,
   "metadata": {},
   "outputs": [
    {
     "name": "stderr",
     "output_type": "stream",
     "text": [
      "C:\\Users\\sbran\\Anaconda3\\envs\\projet_recherche\\lib\\site-packages\\ipykernel_launcher.py:6: TqdmDeprecationWarning: This function will be removed in tqdm==5.0.0\n",
      "Please use `tqdm.notebook.tqdm` instead of `tqdm.tqdm_notebook`\n",
      "  \n"
     ]
    },
    {
     "data": {
      "text/plain": [
       "HBox(children=(IntProgress(value=0, max=25), HTML(value='')))"
      ]
     },
     "metadata": {},
     "output_type": "display_data"
    },
    {
     "name": "stdout",
     "output_type": "stream",
     "text": [
      "\n"
     ]
    }
   ],
   "source": [
    "l = [0.01, 0.1, 1, 10, 100]\n",
    "pq = [(p, q) for p in l for q in l]\n",
    "\n",
    "results = {}\n",
    "\n",
    "for p, q in tqdm(pq):\n",
    "    wv = node2vec(G, win_size=10, out_dim=200, n_walks=50, len_walk=50, p=p, q=q)\n",
    "    repr_mat = wv.vectors\n",
    "    index2word = wv.index2word\n",
    "    X = repr_mat\n",
    "    Y = np.array([G.nodes[word][\"community\"] for word in index2word])\n",
    "    X_train, X_test, Y_train, Y_test = train_test_split(X, Y, test_size=0.6)\n",
    "    \n",
    "    model = LogisticRegression(penalty='l2', solver='lbfgs', multi_class=\"ovr\")\n",
    "    model.fit(X_train, Y_train)\n",
    "    \n",
    "    y_pred = model.predict(X_test)\n",
    "    y_true = Y_test\n",
    "\n",
    "    f1 = f1_score(y_true, y_pred, average=\"micro\")\n",
    "    cfm = confusion_matrix(y_true, y_pred)\n",
    "    \n",
    "    results[(p,q)] = (f1, cfm)"
   ]
  },
  {
   "cell_type": "code",
   "execution_count": 163,
   "metadata": {},
   "outputs": [
    {
     "data": {
      "text/plain": [
       "<matplotlib.table.Table at 0x14cd9079d30>"
      ]
     },
     "execution_count": 163,
     "metadata": {},
     "output_type": "execute_result"
    },
    {
     "data": {
      "image/png": "[encoded data removed]",
      "text/plain": [
       "<Figure size 432x288 with 1 Axes>"
      ]
     },
     "metadata": {
      "needs_background": "light"
     },
     "output_type": "display_data"
    }
   ],
   "source": [
    "plt.table(cellText=[[\"{:.4f}\".format(results[(p, q)][0]) for p in l] for q in l], \n",
    "          rowLabels=[\"p={}\".format(p) for p in l], \n",
    "          colLabels=[\"q={}\".format(q) for q in l])"
   ]
  },
  {
   "cell_type": "markdown",
   "metadata": {},
   "source": [
    "## Influence of the core on random walks"
   ]
  },
  {
   "cell_type": "code",
   "execution_count": null,
   "metadata": {},
   "outputs": [],
   "source": [
    "G.remove_edges_from(nx.selfloop_edges(G))\n",
    "G = nx.k_core(G, 1)\n",
    "core_numbers = nx.core_number(G)\n",
    "print(np.unique(list(core_numbers.values())))"
   ]
  },
  {
   "cell_type": "code",
   "execution_count": null,
   "metadata": {},
   "outputs": [],
   "source": [
    "nb_nodes = []\n",
    "k_cores = np.unique(list(core_numbers.values()))\n",
    "\n",
    "for k in k_cores:\n",
    "    nb_nodes.append(len(nx.k_core(G, k))/len(G.nodes))\n",
    "\n",
    "plt.bar(x=k_cores, height=nb_nodes)\n",
    "plt.show()"
   ]
  },
  {
   "cell_type": "code",
   "execution_count": 156,
   "metadata": {},
   "outputs": [],
   "source": [
    "from node2vec.node2vec import random_walk\n",
    "\n",
    "rw = {}\n",
    "rw_k = {}\n",
    "for n in G.nodes:\n",
    "    k_core = nx.core_number(G)[n]\n",
    "    rw_k[n] = [random_walk(graph=G, node=n, len_walk=30, p=1, q=1) for _ in range(int(50*k_core/7))]\n",
    "    rw[n] = [random_walk(graph=G, node=n, len_walk=30, p=1, q=1) for _ in range(50)]    "
   ]
  },
  {
   "cell_type": "code",
   "execution_count": 157,
   "metadata": {
    "scrolled": false
   },
   "outputs": [
    {
     "data": {
      "image/png": "[encoded data removed]",
      "text/plain": [
       "<Figure size 720x720 with 7 Axes>"
      ]
     },
     "metadata": {
      "needs_background": "light"
     },
     "output_type": "display_data"
    }
   ],
   "source": [
    "plt.figure(figsize=(10,10))\n",
    "for k in np.unique(list(core_numbers.values())):\n",
    "    props = {}\n",
    "    c = 0\n",
    "\n",
    "    for node in nx.k_core(G, k).nodes:\n",
    "        for walk in rw[node]:\n",
    "            for node in walk:\n",
    "                if core_numbers[node] not in props:\n",
    "                    props[core_numbers[node]] = 0\n",
    "                props[core_numbers[node]] += 1\n",
    "                c+=1\n",
    "\n",
    "    for i in props:\n",
    "        props[i] /= c\n",
    "\n",
    "    #print(\"K core:\", k)\n",
    "    #print(\"proportions:\", props)\n",
    "    plt.subplot(3,3,k)\n",
    "    plt.title(\"K core # {}\".format(k))\n",
    "    plt.ylim(0, 1)\n",
    "    plt.bar(x=np.array(list(props.keys())) + 0.2, height=props.values(), \n",
    "            label=\"unweighted\", width=0.4)\n",
    "    c = 0\n",
    "    \n",
    "    for node in nx.k_core(G, k).nodes:\n",
    "        for walk in rw_k[node]:\n",
    "            for node in walk:\n",
    "                if core_numbers[node] not in props:\n",
    "                    props[core_numbers[node]] = 0\n",
    "                props[core_numbers[node]] += 1\n",
    "                c+=1\n",
    "\n",
    "    for i in props:\n",
    "        props[i] /= c\n",
    "    plt.bar(x=np.array(list(props.keys())) - 0.2, height=props.values(), \n",
    "            label=\"k-core weighted\", width=0.4)\n",
    "    \n",
    "    plt.legend()\n",
    "plt.show()"
   ]
  },
  {
   "cell_type": "code",
   "execution_count": 158,
   "metadata": {},
   "outputs": [],
   "source": [
    "walks_kcore = []\n",
    "walks = []\n",
    "for node_walks in rw_k.values():\n",
    "    walks_kcore += node_walks\n",
    "for node_walks in rw.values():\n",
    "    walks += node_walks"
   ]
  },
  {
   "cell_type": "code",
   "execution_count": 159,
   "metadata": {},
   "outputs": [
    {
     "name": "stdout",
     "output_type": "stream",
     "text": [
      "163200 40247\n"
     ]
    }
   ],
   "source": [
    "print(len(walks), len(walks_kcore))"
   ]
  },
  {
   "cell_type": "code",
   "execution_count": 160,
   "metadata": {},
   "outputs": [],
   "source": [
    "from gensim.models import Word2Vec\n",
    "from sklearn.model_selection import train_test_split\n",
    "from sklearn.linear_model import LogisticRegression\n",
    "from sklearn.metrics import f1_score, confusion_matrix, accuracy_score\n"
   ]
  },
  {
   "cell_type": "code",
   "execution_count": 161,
   "metadata": {},
   "outputs": [],
   "source": [
    "def compute_f1(walks):\n",
    "    model = Word2Vec(walks, size=100, window=5, min_count=0, sg=1, hs=1)\n",
    "    wv = model.wv\n",
    "\n",
    "    repr_mat = wv.vectors\n",
    "    index2word = wv.index2word\n",
    "    X = repr_mat\n",
    "    Y = np.array([G.nodes[word][\"community\"] for word in index2word])\n",
    "\n",
    "    X_train, X_test, Y_train, Y_test = train_test_split(X, Y, test_size=0.6)\n",
    "\n",
    "    model = LogisticRegression(penalty='l2', solver=\"lbfgs\", multi_class=\"ovr\")\n",
    "    model.fit(X_train, Y_train)\n",
    "    y_pred = model.predict(X_test)\n",
    "    y_true = Y_test\n",
    "\n",
    "    print(\"F1\", f1_score(y_true, y_pred, average=\"micro\"))"
   ]
  },
  {
   "cell_type": "code",
   "execution_count": 162,
   "metadata": {},
   "outputs": [
    {
     "name": "stdout",
     "output_type": "stream",
     "text": [
      "F1 0.5477284328739153\n"
     ]
    }
   ],
   "source": [
    "compute_f1(walks_kcore)"
   ]
  },
  {
   "cell_type": "code",
   "execution_count": 163,
   "metadata": {},
   "outputs": [
    {
     "name": "stdout",
     "output_type": "stream",
     "text": [
      "F1 0.5507912200102093\n"
     ]
    }
   ],
   "source": [
    "compute_f1(walks)"
   ]
  },
  {
   "cell_type": "markdown",
   "metadata": {},
   "source": [
    "## Embedding & prediction"
   ]
  },
  {
   "cell_type": "code",
   "execution_count": null,
   "metadata": {},
   "outputs": [],
   "source": [
    "wv = node2vec(G, win_size=5, out_dim=200, n_walks=50, len_walk=50, p=100, q=0.01)\n",
    "repr_mat = wv.vectors\n",
    "index2word = wv.index2word"
   ]
  },
  {
   "cell_type": "code",
   "execution_count": null,
   "metadata": {},
   "outputs": [],
   "source": [
    "labels = np.unique([G.nodes[n]['community'] for n in G.nodes])"
   ]
  },
  {
   "cell_type": "code",
   "execution_count": null,
   "metadata": {},
   "outputs": [],
   "source": [
    "X = repr_mat\n",
    "Y = np.array([G.nodes[word][\"community\"] for word in index2word])"
   ]
  },
  {
   "cell_type": "code",
   "execution_count": null,
   "metadata": {},
   "outputs": [],
   "source": [
    "\n",
    "model = LogisticRegression(penalty='l2')\n",
    "model.fit(X_train, Y_train)"
   ]
  },
  {
   "cell_type": "code",
   "execution_count": null,
   "metadata": {},
   "outputs": [],
   "source": [
    "\n",
    "y_pred = model.predict(X_test)\n",
    "y_true = Y_test\n",
    "\n",
    "print(\"F1\", f1_score(y_true, y_pred, average=\"micro\"))\n",
    "confusion_matrix(y_true, y_pred)"
   ]
  }
 ],
 "metadata": {
  "kernelspec": {
   "display_name": "Python 3",
   "language": "python",
   "name": "python3"
  },
  "language_info": {
   "codemirror_mode": {
    "name": "ipython",
    "version": 3
   },
   "file_extension": ".py",
   "mimetype": "text/x-python",
   "name": "python",
   "nbconvert_exporter": "python",
   "pygments_lexer": "ipython3",
   "version": "3.6.9"
  }
 },
 "nbformat": 4,
 "nbformat_minor": 2
}
